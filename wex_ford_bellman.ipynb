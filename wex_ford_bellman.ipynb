{
 "cells": [
  {
   "cell_type": "markdown",
   "metadata": {
    "collapsed": true
   },
   "source": [
    "\n"
   ]
  },
  {
   "cell_type": "code",
   "execution_count": null,
   "metadata": {
    "collapsed": true
   },
   "outputs": [],
   "source": [
    "\n",
    "import math, json, re\n",
    "import ccxt\n",
    "wex = ccxt.wex()\n",
    "data_for_graph = {}\n",
    "data = wex.fetch_tickers()\n",
    "for key in data:\n",
    "    data_for_graph.update({key: data[key]['last']})\n",
    "ticker_list = list(data_for_graph.keys())\n",
    "ticker_list2 = []\n",
    "for key in ticker_list:\n",
    "    ticker_list2.append(\"{1}/{0}\".format(*key.split('/'))) #обратные тикеры\n",
    "\n",
    "for key in range(0, len(ticker_list)):\n",
    "    #обратные котировки\n",
    "    data_for_graph.update({ticker_list2[key]: 1 / (data[ticker_list[key]]['last'])})\n",
    "\n",
    "print(data_for_graph)\n"
   ]
  },
  {
   "cell_type": "markdown",
   "metadata": {},
   "source": [
    "Создаем списки смежности для каждой ноды - тикера криптовалюты, \n",
    "котировки переводим в логарифмический вид."
   ]
  },
  {
   "cell_type": "code",
   "execution_count": 10,
   "metadata": {
    "collapsed": true
   },
   "outputs": [
    {
     "name": "stdout",
     "output_type": "stream",
     "text": [
      "{b'NMCET': {b'NMC': 0.3915622029391729}, b'ETHET': {b'ETH': 0.507497833673316}, b'NMC': {b'BTC': 8.517193191416238, b'NMCET': -0.391562202939173, b'USD': -0.5596157879354227}, b'BTC': {b'ZEC': -3.575550768806933, b'DASH': -3.024955132230894, b'NMC': -8.517193191416238, b'ETH': -2.7954070923204615, b'EUR': -8.853106403240773, b'USD': -9.057118094383503, b'LTC': -3.979231755121596, b'RUR': -13.085813331894157, b'NVC': -7.706262975199909, b'PPC': -8.377431249041079, b'BTCET': -0.41248972304512876, b'BCH': -2.1698039817602273}, b'EUR': {b'LTC': 4.873845264543479, b'EURET': -0.44316697529217586, b'DASH': 5.829660068211937, b'BCH': 6.681948183581686, b'BTC': 8.853106403240773, b'ETH': 6.060276922306459, b'RUR': -4.236070661334393, b'USD': -0.203161227873645}, b'DSHET': {b'DASH': 0.33687231664255274}, b'BCHET': {b'BCH': 0.38272562113867487}, b'ZEC': {b'LTC': -0.4027948795522855, b'USD': -5.480380556634855, b'BCH': 1.404870746692826, b'BTC': 3.575550768806933, b'ETH': 0.7770286645406473, b'DASH': 0.55043087835835}, b'RUR': {b'LTC': 9.105897213195618, b'DASH': 10.065713794205, b'BCH': 10.917052770065673, b'BTC': 13.085813331894157, b'ETH': 10.288912654035872, b'EUR': 4.236070661334393, b'USD': 4.028382806544341, b'RURET': -0.48126682152444633}, b'PPC': {b'BTC': 8.377431249041079, b'USD': -0.6871291082343823, b'PPCET': -0.34955747616986843}, b'PPCET': {b'PPC': 0.34955747616986843}, b'BTCET': {b'BTC': 0.4124897230451288}, b'USDET': {b'USD': 0.3915622029391729}, b'RURET': {b'RUR': 0.4812668215244463}, b'DASH': {b'ZEC': -0.5504308783583501, b'LTC': -0.9539717988418436, b'USD': -6.034301502230956, b'BCH': 0.8527117502312838, b'DSHET': -0.33687231664255274, b'BTC': 3.024955132230894, b'ETH': 0.22564668153232822, b'EUR': -5.829660068211937, b'RUR': -10.065713794205}, b'LTCET': {b'LTC': 0.5869869847315546}, b'ETH': {b'LTC': -1.1807021303015797, b'ZEC': -0.7770286645406473, b'RUR': -10.288912654035872, b'BCH': 0.6275414234619514, b'ETHET': -0.507497833673316, b'DASH': -0.22564668153232822, b'BTC': 2.7954070923204615, b'EUR': -6.060276922306459, b'USD': -6.260632536733471}, b'NVCET': {b'NVC': 0.2156715364755087}, b'EURET': {b'EUR': 0.44316697529217586}, b'LTC': {b'ZEC': 0.4027948795522855, b'BTC': 3.979231755121596, b'DASH': 0.9539717988418437, b'BCH': 1.8082887711792655, b'LTCET': -0.5869869847315546, b'ETH': 1.1807021303015794, b'RUR': -9.105897213195618, b'EUR': -4.873845264543479, b'USD': -5.080469145194037}, b'USDT': {b'USD': -0.006975613736425138}, b'USD': {b'LTC': 5.080469145194037, b'DASH': 6.034301502230956, b'NVC': 1.3491115699921745, b'BTC': 9.057118094383503, b'ETH': 6.260632536733471, b'EUR': 0.20316122787364496, b'ZEC': 5.480380556634855, b'USDT': 0.006975613736425099, b'RUR': -4.028382806544341, b'BCH': 6.887704600923911, b'PPC': 0.6871291082343823, b'NMC': 0.5596157879354228, b'USDET': -0.391562202939173}, b'NVC': {b'BTC': 7.706262975199909, b'USD': -1.3491115699921747, b'NVCET': -0.2156715364755087}, b'BCH': {b'ZEC': -1.404870746692826, b'LTC': -1.8082887711792655, b'USD': -6.887704600923911, b'DASH': -0.8527117502312838, b'BTC': 2.1698039817602273, b'ETH': -0.6275414234619514, b'RUR': -10.917052770065673, b'EUR': -6.681948183581686, b'BCHET': -0.3827256211386748}}\n"
     ]
    }
   ],
   "source": [
    "graph = {}\n",
    "jsrates = data_for_graph\n",
    "\n",
    "pattern = re.compile(\"([A-Z]{3,5})/([A-Z]{3,5})\")\n",
    "\n",
    "try:\n",
    "    for key in jsrates:\n",
    "        matches = pattern.match(key)\n",
    "\n",
    "        conversion_rate = -math.log(float(jsrates[key]))\n",
    "        \n",
    "        from_rate = matches.group(1).encode('ascii', 'ignore')\n",
    "\n",
    "        to_rate = matches.group(2).encode('ascii', 'ignore')\n",
    "\n",
    "        if from_rate != to_rate:\n",
    "            if from_rate not in graph:\n",
    "                graph[from_rate] = {}\n",
    "            graph[from_rate][to_rate] = float(conversion_rate)\n",
    "\n",
    "except AttributeError:\n",
    "    print('Strange rate')\n",
    "    pass\n",
    "\n",
    "print(graph)\n",
    "# воплощение алгоритма отсюда\n",
    "#  https://gist.github.com/joninvski/701720\n"
   ]
  },
  {
   "cell_type": "heading",
   "metadata": {},
   "level": 1,
   "source": [
    "подготавливаем данные по каждой вершине графа согласно и ищем отрицательный цикл в полученном графе\n"
   ]
  },
  {
   "cell_type": "code",
   "execution_count": null,
   "metadata": {},
   "outputs": [],
   "source": [
    "\n",
    "# Step 1: For each node prepare the destination and predecessor\n",
    "def initialize(graph, source):\n",
    "    d = {}  # Stands for destination\n",
    "    p = {}  # Stands for predecessor\n",
    "    for node in graph:\n",
    "        d[node] = float('Inf')  # We start admiting that the rest of nodes are very very far\n",
    "        p[node] = None\n",
    "    d[source] = 0  # For the source we know how to reach\n",
    "    return d, p\n",
    "\n",
    "\n",
    "def relax(node, neighbour, graph, d, p):\n",
    "    # If the distance between the node and the neighbour is lower than the one I have now\n",
    "    if d[neighbour] > d[node] + graph[node][neighbour]:\n",
    "        # Record this lower distance\n",
    "        d[neighbour] = d[node] + graph[node][neighbour]\n",
    "        p[neighbour] = node\n",
    "\n",
    "\n",
    "def retrace_negative_loop(p, start):\n",
    "    arbitrageLoop = [start]\n",
    "    next_node = start\n",
    "    while True:\n",
    "        next_node = p[next_node]\n",
    "        if next_node not in arbitrageLoop:\n",
    "            arbitrageLoop.append(next_node)\n",
    "        else:\n",
    "            arbitrageLoop.append(next_node)\n",
    "            arbitrageLoop = arbitrageLoop[arbitrageLoop.index(next_node):]\n",
    "            return arbitrageLoop\n",
    "\n",
    "\n",
    "def bellman_ford(graph, source):\n",
    "    d, p = initialize(graph, source)\n",
    "    for i in range(len(graph) - 1):  # Run this until is converges\n",
    "        for u in graph:\n",
    "            for v in graph[u]:  # For each neighbour of u\n",
    "                relax(u, v, graph, d, p)  # Lets relax it\n",
    "\n",
    "    # Step 3: check for negative-weight cycles\n",
    "    for u in graph:\n",
    "        for v in graph[u]:\n",
    "            if d[v] < d[u] + graph[u][v]:\n",
    "                return (retrace_negative_loop(p, source))\n",
    "    return None\n"
   ]
  },
  {
   "cell_type": "heading",
   "metadata": {},
   "level": 1,
   "source": []
  },
  {
   "cell_type": "code",
   "execution_count": 16,
   "metadata": {},
   "outputs": [
    {
     "name": "stdout",
     "output_type": "stream",
     "text": [
      "Starting with 100 in b'NVC'\nb'NVC' to b'USD' at 3.854000 = 385.400000\nb'USD' to b'NVC' at 0.259471 = 100.000000\nStarting with 100 in b'USD'\nb'USD' to b'NMC' at 0.571429 = 57.142857\nb'NMC' to b'BTC' at 0.000200 = 0.011429\nb'BTC' to b'NVC' at 2222.222222 = 25.396825\nb'NVC' to b'USD' at 3.854000 = 97.879365\nStarting with 100 in b'BTC'\nb'BTC' to b'NVC' at 2222.222222 = 222222.222222\nb'NVC' to b'USD' at 3.854000 = 856444.444444\nb'USD' to b'NMC' at 0.571429 = 489396.825397\nb'NMC' to b'BTC' at 0.000200 = 97.879365\nStarting with 100 in b'USD'\nb'USD' to b'NVC' at 0.259471 = 25.947068\nb'NVC' to b'USD' at 3.854000 = 100.000000\n\n\n"
     ]
    }
   ],
   "source": [
    " paths = []\n",
    " for key in graph:\n",
    "\n",
    "    path = bellman_ford(graph, key)\n",
    "\n",
    "    if path not in paths and not None:\n",
    "        paths.append(path)\n",
    "\n",
    "for path in paths:\n",
    "    if path == None:\n",
    "        print(\"No opportunity here :(\")\n",
    "    else:\n",
    "        money = 100\n",
    "        print(\"Starting with %(money)i in %(currency)s\" % {\"money\": money, \"currency\": path[0]})           \n",
    "\n",
    "        for i, value in enumerate(path):\n",
    "            if i + 1 < len(path):\n",
    "                start = path[i]\n",
    "                end = path[i + 1]\n",
    "                rate = math.exp(-graph[start][end])\n",
    "                money *= rate\n",
    "                print(\"%(start)s to %(end)s at %(rate)f = %(money)f\" % {\"start\": start, \"end\": end, \"rate\": rate,\n",
    "                                                                        \"money\": money})\n",
    "print (\"\\n\")\n",
    "\n",
    " "
   ]
  },
  {
   "cell_type": "code",
   "execution_count": null,
   "metadata": {},
   "outputs": [],
   "source": []
  }
 ],
 "metadata": {
  "kernelspec": {
   "display_name": "Python 2",
   "language": "python",
   "name": "python2"
  },
  "language_info": {
   "codemirror_mode": {
    "name": "ipython",
    "version": 2
   },
   "file_extension": ".py",
   "mimetype": "text/x-python",
   "name": "python",
   "nbconvert_exporter": "python",
   "pygments_lexer": "ipython2",
   "version": "2.7.6"
  }
 },
 "nbformat": 4,
 "nbformat_minor": 0
}
