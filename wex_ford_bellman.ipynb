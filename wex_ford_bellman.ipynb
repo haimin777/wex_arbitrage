{
 "cells": [
  {
   "cell_type": "markdown",
   "metadata": {
    "collapsed": true
   },
   "source": [
    "\n"
   ]
  },
  {
   "cell_type": "code",
   "execution_count": 2,
   "metadata": {},
   "outputs": [],
   "source": [
    "\n",
    "import math, re, ccxt\n",
    "from pprint import pformat\n",
    "\n",
    "def get_data_for_graph(price1 = \"last\", price2 = \"last\"):\n",
    "    print('data for: ', price1, price2)\n",
    "    wex = ccxt.wex()\n",
    "    data_for_graph = {}\n",
    "    data = wex.fetch_tickers()\n",
    "    for key in data:\n",
    "        data_for_graph.update({key: data[key][price1]})\n",
    "    ticker_list = list(data_for_graph.keys())\n",
    "    ticker_list2 = []\n",
    "    for key in ticker_list:\n",
    "        ticker_list2.append(\"{1}/{0}\".format(*key.split('/'))) #обратные тикеры\n",
    "    \n",
    "    for key in range(0, len(ticker_list)):\n",
    "        #обратные котировки\n",
    "        data_for_graph.update({ticker_list2[key]: 1 / (data[ticker_list[key]][price2])})\n",
    "    \n",
    "    print(pformat(data_for_graph))\n",
    "    return data_for_graph\n",
    "  \n"
   ]
  },
  {
   "cell_type": "code",
   "execution_count": 3,
   "metadata": {},
   "outputs": [
    {
     "data": {
      "text/plain": [
       "'\\n\\nСоздаем граф в виде списка смежности для каждой ноды - тикера криптовалюты, \\nкотировки переводим в логарифмический вид, чтобы можо было складывать вместо \\nумножения\\n'"
      ]
     },
     "execution_count": 3,
     "metadata": {},
     "output_type": "execute_result"
    }
   ],
   "source": [
    "'''\n",
    "\n",
    "Создаем граф в виде списка смежности для каждой ноды - тикера криптовалюты, \n",
    "котировки переводим в логарифмический вид, чтобы можо было складывать вместо \n",
    "умножения\n",
    "'''\n"
   ]
  },
  {
   "cell_type": "code",
   "execution_count": 3,
   "metadata": {},
   "outputs": [],
   "source": [
    "def create_graph(data_for_graph):\n",
    "    graph = {}\n",
    "    jsrates = data_for_graph\n",
    "    \n",
    "    pattern = re.compile(\"([A-Z]{3,5})/([A-Z]{3,5})\")\n",
    "    \n",
    "    try:\n",
    "        for key in jsrates:\n",
    "            matches = pattern.match(key)\n",
    "    \n",
    "            conversion_rate = -math.log(float(jsrates[key]))\n",
    "            \n",
    "            from_rate = matches.group(1).encode('ascii', 'ignore')\n",
    "    \n",
    "            to_rate = matches.group(2).encode('ascii', 'ignore')\n",
    "    \n",
    "            if from_rate != to_rate:\n",
    "                if from_rate not in graph:\n",
    "                    graph[from_rate] = {}\n",
    "                graph[from_rate][to_rate] = float(conversion_rate)\n",
    "    \n",
    "    except AttributeError:\n",
    "        print('Strange rate')\n",
    "        pass\n",
    "    \n",
    "    #print('graph: ', '\\n',pformat(graph))\n",
    "    # воплощение алгоритма отсюда\n",
    "    #  https://gist.github.com/joninvski/701720\n",
    "    return graph\n"
   ]
  },
  {
   "cell_type": "code",
   "execution_count": 13,
   "metadata": {},
   "outputs": [],
   "source": [
    "\n",
    "\n",
    "\n",
    "# Step 1: For each node prepare the destination and predecessor\n",
    "def initialize(graph, source):\n",
    "    d = {}  # Stands for destination\n",
    "    p = {}  # Stands for predecessor\n",
    "    for node in graph:\n",
    "        d[node] = float('Inf')  # We start admiting that the rest of nodes are very very far\n",
    "        p[node] = None\n",
    "    d[source] = 0  # For the source we know how to reach\n",
    "    return d, p\n",
    "\n",
    "\n",
    "def relax(node, neighbour, graph, d, p):\n",
    "    # If the distance between the node and the neighbour is lower than the one I have now\n",
    "    if d[neighbour] > d[node] + graph[node][neighbour]:\n",
    "        # Record this lower distance\n",
    "        d[neighbour] = d[node] + graph[node][neighbour]\n",
    "        p[neighbour] = node\n",
    "\n",
    "\n",
    "def retrace_negative_loop(p, start):\n",
    "    arbitrageLoop = [start]\n",
    "    next_node = start\n",
    "    #print('next node:', next_node)\n",
    "    while True:\n",
    "        \n",
    "        next_node = p[next_node]\n",
    "        if next_node not in arbitrageLoop:\n",
    "            arbitrageLoop.append(next_node)\n",
    "        else:\n",
    "            arbitrageLoop.append(next_node)\n",
    "            arbitrageLoop = arbitrageLoop[arbitrageLoop.index(next_node):]\n",
    "            return arbitrageLoop\n",
    "\n",
    "\n",
    "def bellman_ford(graph, source):\n",
    "    d, p = initialize(graph, source)\n",
    "    for i in range(len(graph)-1):  # Run this until is converges\n",
    "        for u in graph:\n",
    "            for v in graph[u]:  # For each neighbour of u\n",
    "                relax(u, v, graph, d, p)  # Lets relax it\n",
    "\n",
    "    # Step 3: check for negative-weight cycles\n",
    "    for u in graph:\n",
    "        #print('u: ', u)\n",
    "        for v in graph[u]: #graph[u]\n",
    "            \n",
    "            if d[v] > d[u] + graph[u][v]:                \n",
    "                return (retrace_negative_loop(p, source))\n",
    "    return None\n"
   ]
  },
  {
   "cell_type": "code",
   "execution_count": 20,
   "metadata": {
    "collapsed": true
   },
   "outputs": [
    {
     "name": "stdout",
     "output_type": "stream",
     "text": [
      "data for:  bid ask\n"
     ]
    },
    {
     "name": "stdout",
     "output_type": "stream",
     "text": [
      "{'BCH/BCHET': 1.1025358324145533,\n 'BCH/BTC': 0.0912,\n 'BCH/DASH': 2.019,\n 'BCH/ETH': 1.477,\n 'BCH/EUR': 596.434,\n 'BCH/LTC': 5.789,\n 'BCH/RUR': 41756.4,\n 'BCH/USD': 722.918,\n 'BCH/ZEC': 3.274,\n 'BCHET/BCH': 0.9,\n 'BTC/BCH': 10.905125408942203,\n 'BTC/BTCET': 1.2224938875305624,\n 'BTC/DASH': 22.12878955521133,\n 'BTC/ETH': 16.105653084232564,\n 'BTC/EUR': 6501.80782,\n 'BTC/LTC': 63.051702395964696,\n 'BTC/NMC': 4761.9047619047615,\n 'BTC/NVC': 2173.913043478261,\n 'BTC/PPC': 4166.666666666667,\n 'BTC/RUR': 456100.0,\n 'BTC/USD': 7925.0,\n 'BTC/ZEC': 35.842293906810035,\n 'BTCET/BTC': 0.812,\n 'DASH/BCH': 0.4921259842519685,\n 'DASH/BTC': 0.04497,\n 'DASH/DSHET': 1.1947431302270013,\n 'DASH/ETH': 0.726,\n 'DASH/EUR': 293.988,\n 'DASH/LTC': 2.85,\n 'DASH/RUR': 20505.215,\n 'DASH/USD': 355.95682,\n 'DASH/ZEC': 1.612,\n 'DSHET/DASH': 0.835,\n 'ETH/BCH': 0.6738544474393531,\n 'ETH/BTC': 0.06166,\n 'ETH/DASH': 1.36986301369863,\n 'ETH/ETHET': 1.2062726176115803,\n 'ETH/EUR': 402.06204,\n 'ETH/LTC': 3.90241,\n 'ETH/RUR': 28106.94154,\n 'ETH/USD': 487.88763,\n 'ETH/ZEC': 2.209,\n 'ETHET/ETH': 0.827,\n 'EUR/BCH': 0.0016644141595041377,\n 'EUR/BTC': 0.00015273834474654576,\n 'EUR/DASH': 0.0033780131877634853,\n 'EUR/ETH': 0.0024739297285208475,\n 'EUR/EURET': 1.4471780028943562,\n 'EUR/LTC': 0.009659129326082547,\n 'EUR/RUR': 69.93,\n 'EUR/USD': 1.21341,\n 'EURET/EUR': 0.686,\n 'LTC/BCH': 0.17205781142463866,\n 'LTC/BTC': 0.01578,\n 'LTC/DASH': 0.3484320557491289,\n 'LTC/ETH': 0.2546181364498593,\n 'LTC/EUR': 102.889,\n 'LTC/LTCET': 1.5151515151515151,\n 'LTC/RUR': 7200.0,\n 'LTC/USD': 125.0,\n 'LTC/ZEC': 0.56657223796034,\n 'LTCET/LTC': 0.657,\n 'NMC/BTC': 0.0002,\n 'NMC/NMCET': 1.0857763300760044,\n 'NMC/USD': 1.6,\n 'NMCET/NMC': 0.903,\n 'NVC/BTC': 0.00045,\n 'NVC/NVCET': 1.1111111111111112,\n 'NVC/USD': 3.6,\n 'NVCET/NVC': 0.896,\n 'PPC/BTC': 0.00023,\n 'PPC/PPCET': 1.1074197120708749,\n 'PPC/USD': 1.836,\n 'PPCET/PPC': 0.888,\n 'RUR/BCH': 2.3800343676962698e-05,\n 'RUR/BTC': 2.179603843791684e-06,\n 'RUR/DASH': 4.839955029073852e-05,\n 'RUR/ETH': 3.533843943792656e-05,\n 'RUR/EUR': 0.014214412760676339,\n 'RUR/LTC': 0.00013794069756158312,\n 'RUR/RURET': 1.6207455429497568,\n 'RUR/USD': 0.017288475502230213,\n 'RURET/RUR': 0.615,\n 'USD/BCH': 0.0013750335164419633,\n 'USD/BTC': 0.00012597631645250694,\n 'USD/DASH': 0.0027995313024693404,\n 'USD/ETH': 0.002039567611666327,\n 'USD/EUR': 0.8214227041235419,\n 'USD/LTC': 0.007967037497738357,\n 'USD/NMC': 0.6153846153846154,\n 'USD/NVC': 0.27624309392265195,\n 'USD/PPC': 0.5385029617662898,\n 'USD/RUR': 57.72632,\n 'USD/USDET': 1.4388489208633095,\n 'USD/USDT': 0.9910802775024778,\n 'USD/ZEC': 0.004518650730891756,\n 'USDET/USD': 0.69,\n 'USDT/USD': 1.007,\n 'ZEC/BCH': 0.3035822707953855,\n 'ZEC/BTC': 0.0278,\n 'ZEC/DASH': 0.6165228113440197,\n 'ZEC/ETH': 0.4504504504504504,\n 'ZEC/LTC': 1.761,\n 'ZEC/USD': 220.001}\n"
     ]
    }
   ],
   "source": [
    "data_for_graph = get_data_for_graph(price1='bid', price2='ask')\n"
   ]
  },
  {
   "cell_type": "code",
   "execution_count": 21,
   "metadata": {
    "collapsed": false
   },
   "outputs": [
    {
     "name": "stdout",
     "output_type": "stream",
     "text": [
      "No opportunity here :(\n\n\n"
     ]
    }
   ],
   "source": [
    "paths = []\n",
    "\n",
    "graph = create_graph(data_for_graph)\n",
    "for key in graph:\n",
    "    \n",
    "    path = bellman_ford(graph, key)\n",
    "    \n",
    "    if path not in paths and not None:\n",
    "        paths.append(path)\n",
    "\n",
    "for path in paths:\n",
    "    if path == None:\n",
    "        print(\"No opportunity here :(\")\n",
    "    else:\n",
    "        print('cycle lenght:', len(path))\n",
    "        money = 100\n",
    "        print(\"Starting with %(money)i in %(currency)s\" % {\"money\": money, \"currency\": path[0]})           \n",
    "\n",
    "        for i, value in enumerate(path):\n",
    "            if i + 1 < len(path):\n",
    "                start = path[i]\n",
    "                end = path[i + 1]\n",
    "                rate = math.exp(-graph[start][end])\n",
    "                money *=rate\n",
    "                #money *= rate*0.998\n",
    "                print(\"%(start)s to %(end)s at %(rate)f = %(money)f\" % {\"start\": start, \"end\": end, \"rate\": rate,\n",
    "                                                                        \"money\": money})\n",
    "print (\"\\n\")\n",
    "\n",
    " "
   ]
  },
  {
   "cell_type": "code",
   "execution_count": null,
   "metadata": {},
   "outputs": [],
   "source": [
    "\n",
    "     \n",
    "\n"
   ]
  }
 ],
 "metadata": {
  "kernelspec": {
   "display_name": "Python 3",
   "language": "python",
   "name": "python3"
  },
  "language_info": {
   "codemirror_mode": {
    "name": "ipython",
    "version": 3
   },
   "file_extension": ".py",
   "mimetype": "text/x-python",
   "name": "python",
   "nbconvert_exporter": "python",
   "pygments_lexer": "ipython3",
   "version": "3.5.2"
  }
 },
 "nbformat": 4,
 "nbformat_minor": 1
}
