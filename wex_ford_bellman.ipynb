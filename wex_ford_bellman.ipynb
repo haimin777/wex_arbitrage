{
 "cells": [
  {
   "cell_type": "markdown",
   "metadata": {
    "collapsed": true
   },
   "source": [
    "\n"
   ]
  },
  {
   "cell_type": "code",
   "execution_count": 24,
   "metadata": {},
   "outputs": [],
   "source": [
    "\n",
    "import math, re, ccxt\n",
    "from pprint import pformat\n",
    "\n",
    "def get_data_for_graph(price1 = \"last\", price2 = \"last\"):\n",
    "    print('data for: ', price1, price2)\n",
    "    wex = ccxt.wex()\n",
    "    data_for_graph = {}\n",
    "    data = wex.fetch_tickers()\n",
    "    for key in data:\n",
    "        data_for_graph.update({key: data[key][price1]})\n",
    "    ticker_list = list(data_for_graph.keys())\n",
    "    ticker_list2 = []\n",
    "    for key in ticker_list:\n",
    "        ticker_list2.append(\"{1}/{0}\".format(*key.split('/'))) #обратные тикеры\n",
    "    \n",
    "    for key in range(0, len(ticker_list)):\n",
    "        #обратные котировки\n",
    "        data_for_graph.update({ticker_list2[key]: 1 / (data[ticker_list[key]][price2])})\n",
    "    \n",
    "    print(pformat(data_for_graph))\n",
    "    return data_for_graph\n",
    "  \n"
   ]
  },
  {
   "cell_type": "code",
   "execution_count": 25,
   "metadata": {},
   "outputs": [
    {
     "data": {
      "text/plain": [
       "'\\n\\nСоздаем граф в виде списка смежности для каждой ноды - тикера криптовалюты, \\nкотировки переводим в логарифмический вид, чтобы можо было складывать вместо \\nумножения\\n'"
      ]
     },
     "execution_count": 25,
     "metadata": {},
     "output_type": "execute_result"
    }
   ],
   "source": [
    "'''\n",
    "\n",
    "Создаем граф в виде списка смежности для каждой ноды - тикера криптовалюты, \n",
    "котировки переводим в логарифмический вид, чтобы можо было складывать вместо \n",
    "умножения\n",
    "'''\n"
   ]
  },
  {
   "cell_type": "code",
   "execution_count": 16,
   "metadata": {},
   "outputs": [],
   "source": [
    "def create_graph(data_for_graph):\n",
    "    graph = {}\n",
    "    jsrates = data_for_graph\n",
    "    \n",
    "    pattern = re.compile(\"([A-Z]{3,5})/([A-Z]{3,5})\")\n",
    "    \n",
    "    try:\n",
    "        for key in jsrates:\n",
    "            matches = pattern.match(key)\n",
    "    \n",
    "            conversion_rate = math.log(float(jsrates[key]))\n",
    "            \n",
    "            from_rate = matches.group(1).encode('ascii', 'ignore')\n",
    "    \n",
    "            to_rate = matches.group(2).encode('ascii', 'ignore')\n",
    "    \n",
    "            if from_rate != to_rate:\n",
    "                if from_rate not in graph:\n",
    "                    graph[from_rate] = {}\n",
    "                graph[from_rate][to_rate] = float(conversion_rate)\n",
    "    \n",
    "    except AttributeError:\n",
    "        print('Strange rate')\n",
    "        pass\n",
    "    \n",
    "    #print(pformat(graph))\n",
    "    # воплощение алгоритма отсюда\n",
    "    #  https://gist.github.com/joninvski/701720\n",
    "    return graph\n"
   ]
  },
  {
   "cell_type": "code",
   "execution_count": 17,
   "metadata": {},
   "outputs": [],
   "source": [
    "\n",
    "'''\n",
    "Подготавливаем данные по каждой вершине графа \n",
    "и ищем отрицательный цикл в полученном графе\n",
    "\n",
    "'''"
   ]
  },
  {
   "cell_type": "code",
   "execution_count": 18,
   "metadata": {},
   "outputs": [],
   "source": [
    "\n",
    "\n",
    "# Step 1: For each node prepare the destination and predecessor\n",
    "def initialize(graph, source):\n",
    "    d = {}  # Stands for destination\n",
    "    p = {}  # Stands for predecessor\n",
    "    for node in graph:\n",
    "        d[node] = float('Inf')  # We start admiting that the rest of nodes are very very far\n",
    "        p[node] = None\n",
    "    d[source] = 0  # For the source we know how to reach\n",
    "    return d, p\n",
    "\n",
    "\n",
    "def relax(node, neighbour, graph, d, p):\n",
    "    # If the distance between the node and the neighbour is lower than the one I have now\n",
    "    if d[neighbour] > d[node] + graph[node][neighbour]:\n",
    "        # Record this lower distance\n",
    "        d[neighbour] = d[node] + graph[node][neighbour]\n",
    "        p[neighbour] = node\n",
    "\n",
    "\n",
    "def retrace_negative_loop(p, start):\n",
    "    arbitrageLoop = [start]\n",
    "    next_node = start\n",
    "    while True:\n",
    "        next_node = p[next_node]\n",
    "        if next_node not in arbitrageLoop:\n",
    "            arbitrageLoop.append(next_node)\n",
    "        else:\n",
    "            arbitrageLoop.append(next_node)\n",
    "            arbitrageLoop = arbitrageLoop[arbitrageLoop.index(next_node):]\n",
    "            return arbitrageLoop\n",
    "\n",
    "\n",
    "def bellman_ford(graph, source):\n",
    "    d, p = initialize(graph, source)\n",
    "    for i in range(len(graph) - 1):  # Run this until is converges\n",
    "        for u in graph:\n",
    "            for v in graph[u]:  # For each neighbour of u\n",
    "                relax(u, v, graph, d, p)  # Lets relax it\n",
    "\n",
    "    # Step 3: check for negative-weight cycles\n",
    "    for u in graph:\n",
    "        for v in graph[u]:\n",
    "            if d[v] < d[u] + graph[u][v]:\n",
    "                return (retrace_negative_loop(p, source))\n",
    "    return None\n"
   ]
  },
  {
   "cell_type": "code",
   "execution_count": 19,
   "metadata": {},
   "outputs": [],
   "source": [
    "\n",
    "'''\n",
    "Применяем алгоритм поиска и выводим ноды, \n",
    "входящие в отрицательный цикл, если он существует.\n",
    "Расчитываем его стоимость с учетом 0.2% комиссии\n",
    "'''"
   ]
  },
  {
   "cell_type": "markdown",
   "metadata": {},
   "source": []
  },
  {
   "cell_type": "code",
   "execution_count": 26,
   "metadata": {},
   "outputs": [
    {
     "name": "stdout",
     "output_type": "stream",
     "text": [
      "data for:  last last\n"
     ]
    },
    {
     "name": "stdout",
     "output_type": "stream",
     "text": [
      "{'BCH/BCHET': 1.4903129657228018,\n 'BCH/BTC': 0.0972,\n 'BCH/DASH': 2.182,\n 'BCH/ETH': 1.741,\n 'BCH/EUR': 535.881,\n 'BCH/LTC': 5.706,\n 'BCH/RUR': 37334.265,\n 'BCH/USD': 657.358,\n 'BCH/ZEC': 3.579,\n 'BCHET/BCH': 0.671,\n 'BTC/BCH': 10.2880658436214,\n 'BTC/BTCET': 1.5313935681470137,\n 'BTC/DASH': 22.431583669807086,\n 'BTC/ETH': 17.979144192736424,\n 'BTC/EUR': 5523.75756,\n 'BTC/LTC': 58.99705014749263,\n 'BTC/NMC': 4761.9047619047615,\n 'BTC/NVC': 2083.3333333333335,\n 'BTC/PPC': 4347.826086956522,\n 'BTC/RUR': 385415.20158,\n 'BTC/USD': 6780.002,\n 'BTC/ZEC': 37.03703703703704,\n 'BTCET/BTC': 0.653,\n 'DASH/BCH': 0.4582951420714941,\n 'DASH/BTC': 0.04458,\n 'DASH/DSHET': 1.3458950201884252,\n 'DASH/ETH': 0.799,\n 'DASH/EUR': 246.013,\n 'DASH/LTC': 2.623,\n 'DASH/RUR': 17124.666,\n 'DASH/USD': 301.77457,\n 'DASH/ZEC': 1.642,\n 'DSHET/DASH': 0.743,\n 'ETH/BCH': 0.5743825387708213,\n 'ETH/BTC': 0.05562,\n 'ETH/DASH': 1.2515644555694618,\n 'ETH/ETHET': 1.6611295681063123,\n 'ETH/EUR': 308.19463,\n 'ETH/LTC': 3.27034,\n 'ETH/RUR': 21443.75788,\n 'ETH/USD': 376.95964,\n 'ETH/ZEC': 2.056,\n 'ETHET/ETH': 0.602,\n 'EUR/BCH': 0.0018660859407219142,\n 'EUR/BTC': 0.000181036185809719,\n 'EUR/DASH': 0.004064825842536777,\n 'EUR/ETH': 0.003244702868443879,\n 'EUR/EURET': 1.5822784810126582,\n 'EUR/LTC': 0.010636939965110837,\n 'EUR/RUR': 69.25245,\n 'EUR/USD': 1.227,\n 'EURET/EUR': 0.632,\n 'LTC/BCH': 0.17525411847178407,\n 'LTC/BTC': 0.01695,\n 'LTC/DASH': 0.38124285169653066,\n 'LTC/ETH': 0.30577860405951673,\n 'LTC/EUR': 94.012,\n 'LTC/LTCET': 1.8018018018018016,\n 'LTC/RUR': 6503.68593,\n 'LTC/USD': 115.14425,\n 'LTC/ZEC': 0.6277463904582549,\n 'LTCET/LTC': 0.555,\n 'NMC/BTC': 0.00021,\n 'NMC/NMCET': 1.443001443001443,\n 'NMC/USD': 1.451,\n 'NMCET/NMC': 0.693,\n 'NVC/BTC': 0.00048,\n 'NVC/NVCET': 1.231527093596059,\n 'NVC/USD': 3.28,\n 'NVCET/NVC': 0.812,\n 'PPC/BTC': 0.00023,\n 'PPC/PPCET': 1.394700139470014,\n 'PPC/USD': 1.55,\n 'PPCET/PPC': 0.717,\n 'RUR/BCH': 2.6785045855328878e-05,\n 'RUR/BTC': 2.5946044574799463e-06,\n 'RUR/DASH': 5.839529950540349e-05,\n 'RUR/ETH': 4.663361737229239e-05,\n 'RUR/EUR': 0.014439922342097644,\n 'RUR/LTC': 0.00015375896234275877,\n 'RUR/RURET': 1.6891891891891893,\n 'RUR/USD': 0.017630857102961032,\n 'RURET/RUR': 0.592,\n 'USD/BCH': 0.0015212410893303194,\n 'USD/BTC': 0.0001474925818605953,\n 'USD/DASH': 0.003313731836317421,\n 'USD/ETH': 0.002652803891684532,\n 'USD/EUR': 0.8149959250203749,\n 'USD/LTC': 0.008684758466011112,\n 'USD/NMC': 0.6891798759476223,\n 'USD/NVC': 0.3048780487804878,\n 'USD/PPC': 0.6451612903225806,\n 'USD/RUR': 56.71874,\n 'USD/USDET': 1.5015015015015014,\n 'USD/USDT': 0.9746588693957114,\n 'USD/ZEC': 0.005433188086105165,\n 'USDET/USD': 0.666,\n 'USDT/USD': 1.026,\n 'ZEC/BCH': 0.27940765576976806,\n 'ZEC/BTC': 0.027,\n 'ZEC/DASH': 0.6090133982947625,\n 'ZEC/ETH': 0.48638132295719844,\n 'ZEC/LTC': 1.593,\n 'ZEC/USD': 184.054}\n5\nStarting with 100 in b'USD'\nb'USD' to b'PPC' at 0.645161 = 64.387097\nb'PPC' to b'BTC' at 0.000230 = 0.014779\nb'BTC' to b'ZEC' at 37.037037 = 0.546291\nb'ZEC' to b'USD' at 184.054000 = 100.345939\n5\nStarting with 100 in b'ZEC'\nb'ZEC' to b'USD' at 184.054000 = 18368.589200\nb'USD' to b'PPC' at 0.645161 = 11827.001304\nb'PPC' to b'BTC' at 0.000230 = 2.714770\nb'BTC' to b'ZEC' at 37.037037 = 100.345939\n5\nStarting with 100 in b'PPC'\nb'PPC' to b'BTC' at 0.000230 = 0.022954\nb'BTC' to b'ZEC' at 37.037037 = 0.848448\nb'ZEC' to b'USD' at 184.054000 = 155.847900\nb'USD' to b'PPC' at 0.645161 = 100.345939\n5\nStarting with 100 in b'BTC'\nb'BTC' to b'ZEC' at 37.037037 = 3696.296296\nb'ZEC' to b'USD' at 184.054000 = 678957.482281\nb'USD' to b'PPC' at 0.645161 = 437161.011172\nb'PPC' to b'BTC' at 0.000230 = 100.345939\n\n\n"
     ]
    }
   ],
   "source": [
    " paths = []\n",
    " \n",
    " data_for_graph = get_data_for_graph()  \n",
    " graph = create_graph(data_for_graph)\n",
    " for key in graph:\n",
    "    \n",
    "    path = bellman_ford(graph, key)\n",
    "\n",
    "    if path not in paths and not None and len(path) > 3:\n",
    "        paths.append(path)\n",
    "\n",
    "for path in paths:\n",
    "    if path == None:\n",
    "        print(\"No opportunity here :(\")\n",
    "    else:\n",
    "        print(len(path))\n",
    "        money = 100\n",
    "        print(\"Starting with %(money)i in %(currency)s\" % {\"money\": money, \"currency\": path[0]})           \n",
    "\n",
    "        for i, value in enumerate(path):\n",
    "            if i + 1 < len(path):\n",
    "                start = path[i]\n",
    "                end = path[i + 1]\n",
    "                rate = math.exp(graph[start][end])\n",
    "                money *= rate*0.998\n",
    "                print(\"%(start)s to %(end)s at %(rate)f = %(money)f\" % {\"start\": start, \"end\": end, \"rate\": rate,\n",
    "                                                                        \"money\": money})\n",
    "print (\"\\n\")\n",
    "\n",
    " "
   ]
  },
  {
   "cell_type": "code",
   "execution_count": 28,
   "metadata": {},
   "outputs": [
    {
     "name": "stdout",
     "output_type": "stream",
     "text": [
      "data for:  bid ask\n"
     ]
    },
    {
     "name": "stdout",
     "output_type": "stream",
     "text": [
      "{'BCH/BCHET': 1.510574018126888,\n 'BCH/BTC': 0.0967,\n 'BCH/DASH': 2.168,\n 'BCH/ETH': 1.733,\n 'BCH/EUR': 535.292,\n 'BCH/LTC': 5.689,\n 'BCH/RUR': 37262.675,\n 'BCH/USD': 653.033,\n 'BCH/ZEC': 3.567,\n 'BCHET/BCH': 0.66,\n 'BTC/BCH': 10.309278350515463,\n 'BTC/BTCET': 1.524390243902439,\n 'BTC/DASH': 22.39641657334826,\n 'BTC/ETH': 17.90189760114572,\n 'BTC/EUR': 5507.13,\n 'BTC/LTC': 58.8235294117647,\n 'BTC/NMC': 4545.454545454545,\n 'BTC/NVC': 2083.3333333333335,\n 'BTC/PPC': 4347.826086956522,\n 'BTC/RUR': 383800.8964,\n 'BTC/USD': 6774.424,\n 'BTC/ZEC': 36.76470588235294,\n 'BTCET/BTC': 0.652,\n 'DASH/BCH': 0.4582951420714941,\n 'DASH/BTC': 0.0445,\n 'DASH/DSHET': 1.3458950201884252,\n 'DASH/ETH': 0.796,\n 'DASH/EUR': 245.105,\n 'DASH/LTC': 2.615,\n 'DASH/RUR': 17011.146,\n 'DASH/USD': 301.12782,\n 'DASH/ZEC': 1.635,\n 'DSHET/DASH': 0.738,\n 'ETH/BCH': 0.573394495412844,\n 'ETH/BTC': 0.05557,\n 'ETH/DASH': 1.2468827930174562,\n 'ETH/ETHET': 1.6556291390728477,\n 'ETH/EUR': 307.25515,\n 'ETH/LTC': 3.27034,\n 'ETH/RUR': 21387.51576,\n 'ETH/USD': 377.0,\n 'ETH/ZEC': 2.056,\n 'ETHET/ETH': 0.602,\n 'EUR/BCH': 0.0018551326883655356,\n 'EUR/BTC': 0.0001804928676501592,\n 'EUR/DASH': 0.0040498618997092195,\n 'EUR/ETH': 0.0032348419913933147,\n 'EUR/EURET': 1.5649452269170578,\n 'EUR/LTC': 0.010602767322271113,\n 'EUR/RUR': 69.25092,\n 'EUR/USD': 1.22402,\n 'EURET/EUR': 0.632,\n 'LTC/BCH': 0.17473353136466888,\n 'LTC/BTC': 0.01695,\n 'LTC/DASH': 0.3802281368821293,\n 'LTC/ETH': 0.30408168850479994,\n 'LTC/EUR': 93.661,\n 'LTC/LTCET': 1.8018018018018016,\n 'LTC/RUR': 6505.83476,\n 'LTC/USD': 115.002,\n 'LTC/ZEC': 0.6234413965087281,\n 'LTCET/LTC': 0.551,\n 'NMC/BTC': 0.00021,\n 'NMC/NMCET': 1.4409221902017293,\n 'NMC/USD': 1.451,\n 'NMCET/NMC': 0.686,\n 'NVC/BTC': 0.00047,\n 'NVC/NVCET': 1.231527093596059,\n 'NVC/USD': 3.244,\n 'NVCET/NVC': 0.804,\n 'PPC/BTC': 0.00022,\n 'PPC/PPCET': 1.394700139470014,\n 'PPC/USD': 1.544,\n 'PPCET/PPC': 0.709,\n 'RUR/BCH': 2.6702204809061745e-05,\n 'RUR/BTC': 2.585780667433781e-06,\n 'RUR/DASH': 5.833414709468531e-05,\n 'RUR/ETH': 4.651162790697674e-05,\n 'RUR/EUR': 0.014337119001815366,\n 'RUR/LTC': 0.0001525362320570429,\n 'RUR/RURET': 1.6891891891891893,\n 'RUR/USD': 0.017592318771408752,\n 'RURET/RUR': 0.591,\n 'USD/BCH': 0.001520482418661793,\n 'USD/BTC': 0.00014760023421205165,\n 'USD/DASH': 0.0032997482754030623,\n 'USD/ETH': 0.0026449221620567084,\n 'USD/EUR': 0.8130213499406493,\n 'USD/LTC': 0.008658008658008658,\n 'USD/NMC': 0.6765899864682002,\n 'USD/NVC': 0.3067484662576687,\n 'USD/PPC': 0.6451612903225806,\n 'USD/RUR': 56.5945,\n 'USD/USDET': 1.4925373134328357,\n 'USD/USDT': 0.9671179883945841,\n 'USD/ZEC': 0.005434487256127385,\n 'USDET/USD': 0.666,\n 'USDT/USD': 1.026,\n 'ZEC/BCH': 0.278473962684489,\n 'ZEC/BTC': 0.027,\n 'ZEC/DASH': 0.6082725060827251,\n 'ZEC/ETH': 0.4844961240310077,\n 'ZEC/LTC': 1.593,\n 'ZEC/USD': 183.51}\n5\nStarting with 100 in b'USD'\nb'USD' to b'PPC' at 0.645161 = 64.387097\nb'PPC' to b'BTC' at 0.000220 = 0.014137\nb'BTC' to b'ZEC' at 36.764706 = 0.518697\nb'ZEC' to b'USD' at 183.510000 = 94.995707\n5\nStarting with 100 in b'ZEC'\nb'ZEC' to b'USD' at 183.510000 = 18314.298000\nb'USD' to b'PPC' at 0.645161 = 11792.044777\nb'PPC' to b'BTC' at 0.000220 = 2.589061\nb'BTC' to b'ZEC' at 36.764706 = 94.995707\n5\nStarting with 100 in b'PPC'\nb'PPC' to b'BTC' at 0.000220 = 0.021956\nb'BTC' to b'ZEC' at 36.764706 = 0.805591\nb'ZEC' to b'USD' at 183.510000 = 147.538423\nb'USD' to b'PPC' at 0.645161 = 94.995707\n5\nStarting with 100 in b'BTC'\nb'BTC' to b'ZEC' at 36.764706 = 3669.117647\nb'ZEC' to b'USD' at 183.510000 = 671973.139853\nb'USD' to b'PPC' at 0.645161 = 432663.995854\nb'PPC' to b'BTC' at 0.000220 = 94.995707\n\n\n"
     ]
    }
   ],
   "source": [
    "'''\n",
    "Для bid/ask\n",
    "\n",
    "'''\n",
    "\n",
    "\n",
    "data_for_graph = get_data_for_graph(price1='bid', price2='ask')\n",
    "graph = create_graph(data_for_graph)\n",
    "for key in graph:\n",
    "    \n",
    "    path = bellman_ford(graph, key)\n",
    "\n",
    "    if path not in paths and not None and len(path) > 3:\n",
    "        paths.append(path)\n",
    "\n",
    "for path in paths:\n",
    "    if path == None:\n",
    "        print(\"No opportunity here :(\")\n",
    "    else:\n",
    "        print(len(path))\n",
    "        money = 100\n",
    "        print(\"Starting with %(money)i in %(currency)s\" % {\"money\": money, \"currency\": path[0]})           \n",
    "\n",
    "        for i, value in enumerate(path):\n",
    "            if i + 1 < len(path):\n",
    "                start = path[i]\n",
    "                end = path[i + 1]\n",
    "                rate = math.exp(graph[start][end])\n",
    "                money *= rate*0.998\n",
    "                print(\"%(start)s to %(end)s at %(rate)f = %(money)f\" % {\"start\": start, \"end\": end, \"rate\": rate,\n",
    "                                                                        \"money\": money})\n",
    "print (\"\\n\")\n",
    "\n"
   ]
  },
  {
   "cell_type": "code",
   "execution_count": 29,
   "metadata": {},
   "outputs": [
    {
     "name": "stdout",
     "output_type": "stream",
     "text": [
      "data for:  ask bid\n"
     ]
    },
    {
     "name": "stdout",
     "output_type": "stream",
     "text": [
      "{'BCH/BCHET': 1.5151515151515151,\n 'BCH/BTC': 0.097,\n 'BCH/DASH': 2.182,\n 'BCH/ETH': 1.743,\n 'BCH/EUR': 539.045,\n 'BCH/LTC': 5.723,\n 'BCH/RUR': 37450.091,\n 'BCH/USD': 657.686,\n 'BCH/ZEC': 3.591,\n 'BCHET/BCH': 0.662,\n 'BTC/BCH': 10.34126163391934,\n 'BTC/BTCET': 1.5337423312883436,\n 'BTC/DASH': 22.471910112359552,\n 'BTC/ETH': 17.995321216483713,\n 'BTC/EUR': 5540.38513,\n 'BTC/LTC': 58.99705014749263,\n 'BTC/NMC': 4761.9047619047615,\n 'BTC/NVC': 2127.6595744680853,\n 'BTC/PPC': 4545.454545454545,\n 'BTC/RUR': 386730.40316,\n 'BTC/USD': 6774.424,\n 'BTC/ZEC': 37.03703703703704,\n 'BTCET/BTC': 0.656,\n 'DASH/BCH': 0.46125461254612543,\n 'DASH/BTC': 0.04465,\n 'DASH/DSHET': 1.3550135501355014,\n 'DASH/ETH': 0.802,\n 'DASH/EUR': 246.922,\n 'DASH/LTC': 2.63,\n 'DASH/RUR': 17142.618,\n 'DASH/USD': 303.05342,\n 'DASH/ZEC': 1.644,\n 'DSHET/DASH': 0.743,\n 'ETH/BCH': 0.5770340450086555,\n 'ETH/BTC': 0.05592,\n 'ETH/DASH': 1.2562814070351758,\n 'ETH/ETHET': 1.6611295681063123,\n 'ETH/EUR': 309.13411,\n 'ETH/LTC': 3.28859,\n 'ETH/RUR': 21464.51082,\n 'ETH/USD': 378.885,\n 'ETH/ZEC': 2.064,\n 'ETHET/ETH': 0.604,\n 'EUR/BCH': 0.001868139258572891,\n 'EUR/BTC': 0.00018158278449936717,\n 'EUR/DASH': 0.004079884131290672,\n 'EUR/ETH': 0.0032546240477987105,\n 'EUR/EURET': 1.5822784810126582,\n 'EUR/LTC': 0.01067680251118395,\n 'EUR/RUR': 69.66673,\n 'EUR/USD': 1.22998,\n 'EURET/EUR': 0.639,\n 'LTC/BCH': 0.17577781683951485,\n 'LTC/BTC': 0.017,\n 'LTC/DASH': 0.3825554705432288,\n 'LTC/ETH': 0.30577860405951673,\n 'LTC/EUR': 94.315,\n 'LTC/LTCET': 1.8148820326678765,\n 'LTC/RUR': 6555.81947,\n 'LTC/USD': 115.002,\n 'LTC/ZEC': 0.6277463904582549,\n 'LTCET/LTC': 0.555,\n 'NMC/BTC': 0.00022,\n 'NMC/NMCET': 1.4577259475218658,\n 'NMC/USD': 1.478,\n 'NMCET/NMC': 0.689,\n 'NVC/BTC': 0.00048,\n 'NVC/NVCET': 1.243781094527363,\n 'NVC/USD': 3.26,\n 'NVCET/NVC': 0.812,\n 'PPC/BTC': 0.00023,\n 'PPC/PPCET': 1.4104372355430184,\n 'PPC/USD': 1.55,\n 'PPCET/PPC': 0.717,\n 'RUR/BCH': 2.6836505967432555e-05,\n 'RUR/BTC': 2.605517624841066e-06,\n 'RUR/DASH': 5.878498720779893e-05,\n 'RUR/ETH': 4.681605422067611e-05,\n 'RUR/EUR': 0.014446476742689325,\n 'RUR/LTC': 0.00015370817687352392,\n 'RUR/RURET': 1.6920473773265652,\n 'RUR/USD': 0.0176697800819171,\n 'RURET/RUR': 0.592,\n 'USD/BCH': 0.0015313138366455652,\n 'USD/BTC': 0.00014765508952328078,\n 'USD/DASH': 0.0033208489338514124,\n 'USD/ETH': 0.0026449221620567084,\n 'USD/EUR': 0.816980114704008,\n 'USD/LTC': 0.008695538753842342,\n 'USD/NMC': 0.6891798759476223,\n 'USD/NVC': 0.3082614056720098,\n 'USD/PPC': 0.6476683937823834,\n 'USD/RUR': 56.84299,\n 'USD/USDET': 1.5015015015015014,\n 'USD/USDT': 0.9746588693957114,\n 'USD/ZEC': 0.005460184335823177,\n 'USDET/USD': 0.67,\n 'USDT/USD': 1.034,\n 'ZEC/BCH': 0.28034763106251753,\n 'ZEC/BTC': 0.0272,\n 'ZEC/DASH': 0.6116207951070336,\n 'ZEC/ETH': 0.48638132295719844,\n 'ZEC/LTC': 1.604,\n 'ZEC/USD': 184.098}\n"
     ]
    },
    {
     "ename": "KeyError",
     "evalue": "None",
     "traceback": [
      "\u001b[0;31m---------------------------------------------------------------------------\u001b[0m",
      "\u001b[0;31mKeyError\u001b[0m                                  Traceback (most recent call last)",
      "\u001b[0;32m<ipython-input-29-93bd477964d7>\u001b[0m in \u001b[0;36m<module>\u001b[0;34m()\u001b[0m\n\u001b[1;32m      5\u001b[0m \u001b[0;32mfor\u001b[0m \u001b[0mkey\u001b[0m \u001b[0;32min\u001b[0m \u001b[0mgraph\u001b[0m\u001b[0;34m:\u001b[0m\u001b[0;34m\u001b[0m\u001b[0m\n\u001b[1;32m      6\u001b[0m \u001b[0;34m\u001b[0m\u001b[0m\n\u001b[0;32m----> 7\u001b[0;31m     \u001b[0mpath\u001b[0m \u001b[0;34m=\u001b[0m \u001b[0mbellman_ford\u001b[0m\u001b[0;34m(\u001b[0m\u001b[0mgraph\u001b[0m\u001b[0;34m,\u001b[0m \u001b[0mkey\u001b[0m\u001b[0;34m)\u001b[0m\u001b[0;34m\u001b[0m\u001b[0m\n\u001b[0m\u001b[1;32m      8\u001b[0m \u001b[0;34m\u001b[0m\u001b[0m\n\u001b[1;32m      9\u001b[0m     \u001b[0;32mif\u001b[0m \u001b[0mpath\u001b[0m \u001b[0;32mnot\u001b[0m \u001b[0;32min\u001b[0m \u001b[0mpaths\u001b[0m \u001b[0;32mand\u001b[0m \u001b[0;32mnot\u001b[0m \u001b[0;32mNone\u001b[0m \u001b[0;32mand\u001b[0m \u001b[0mlen\u001b[0m\u001b[0;34m(\u001b[0m\u001b[0mpath\u001b[0m\u001b[0;34m)\u001b[0m \u001b[0;34m>\u001b[0m \u001b[0;36m3\u001b[0m\u001b[0;34m:\u001b[0m\u001b[0;34m\u001b[0m\u001b[0m\n",
      "\u001b[0;32m<ipython-input-18-cef19c44f716>\u001b[0m in \u001b[0;36mbellman_ford\u001b[0;34m(graph, source)\u001b[0m\n\u001b[1;32m     44\u001b[0m         \u001b[0;32mfor\u001b[0m \u001b[0mv\u001b[0m \u001b[0;32min\u001b[0m \u001b[0mgraph\u001b[0m\u001b[0;34m[\u001b[0m\u001b[0mu\u001b[0m\u001b[0;34m]\u001b[0m\u001b[0;34m:\u001b[0m\u001b[0;34m\u001b[0m\u001b[0m\n\u001b[1;32m     45\u001b[0m             \u001b[0;32mif\u001b[0m \u001b[0md\u001b[0m\u001b[0;34m[\u001b[0m\u001b[0mv\u001b[0m\u001b[0;34m]\u001b[0m \u001b[0;34m<\u001b[0m \u001b[0md\u001b[0m\u001b[0;34m[\u001b[0m\u001b[0mu\u001b[0m\u001b[0;34m]\u001b[0m \u001b[0;34m+\u001b[0m \u001b[0mgraph\u001b[0m\u001b[0;34m[\u001b[0m\u001b[0mu\u001b[0m\u001b[0;34m]\u001b[0m\u001b[0;34m[\u001b[0m\u001b[0mv\u001b[0m\u001b[0;34m]\u001b[0m\u001b[0;34m:\u001b[0m\u001b[0;34m\u001b[0m\u001b[0m\n\u001b[0;32m---> 46\u001b[0;31m                 \u001b[0;32mreturn\u001b[0m \u001b[0;34m(\u001b[0m\u001b[0mretrace_negative_loop\u001b[0m\u001b[0;34m(\u001b[0m\u001b[0mp\u001b[0m\u001b[0;34m,\u001b[0m \u001b[0msource\u001b[0m\u001b[0;34m)\u001b[0m\u001b[0;34m)\u001b[0m\u001b[0;34m\u001b[0m\u001b[0m\n\u001b[0m\u001b[1;32m     47\u001b[0m     \u001b[0;32mreturn\u001b[0m \u001b[0;32mNone\u001b[0m\u001b[0;34m\u001b[0m\u001b[0m\n",
      "\u001b[0;32m<ipython-input-18-cef19c44f716>\u001b[0m in \u001b[0;36mretrace_negative_loop\u001b[0;34m(p, start)\u001b[0m\n\u001b[1;32m     24\u001b[0m     \u001b[0mnext_node\u001b[0m \u001b[0;34m=\u001b[0m \u001b[0mstart\u001b[0m\u001b[0;34m\u001b[0m\u001b[0m\n\u001b[1;32m     25\u001b[0m     \u001b[0;32mwhile\u001b[0m \u001b[0;32mTrue\u001b[0m\u001b[0;34m:\u001b[0m\u001b[0;34m\u001b[0m\u001b[0m\n\u001b[0;32m---> 26\u001b[0;31m         \u001b[0mnext_node\u001b[0m \u001b[0;34m=\u001b[0m \u001b[0mp\u001b[0m\u001b[0;34m[\u001b[0m\u001b[0mnext_node\u001b[0m\u001b[0;34m]\u001b[0m\u001b[0;34m\u001b[0m\u001b[0m\n\u001b[0m\u001b[1;32m     27\u001b[0m         \u001b[0;32mif\u001b[0m \u001b[0mnext_node\u001b[0m \u001b[0;32mnot\u001b[0m \u001b[0;32min\u001b[0m \u001b[0marbitrageLoop\u001b[0m\u001b[0;34m:\u001b[0m\u001b[0;34m\u001b[0m\u001b[0m\n\u001b[1;32m     28\u001b[0m             \u001b[0marbitrageLoop\u001b[0m\u001b[0;34m.\u001b[0m\u001b[0mappend\u001b[0m\u001b[0;34m(\u001b[0m\u001b[0mnext_node\u001b[0m\u001b[0;34m)\u001b[0m\u001b[0;34m\u001b[0m\u001b[0m\n",
      "\u001b[0;31mKeyError\u001b[0m: None"
     ],
     "output_type": "error"
    }
   ],
   "source": [
    "\n",
    "\n",
    "data_for_graph = get_data_for_graph(price1='ask', price2='bid')\n",
    "graph = create_graph(data_for_graph)\n",
    "for key in graph:\n",
    "    \n",
    "    path = bellman_ford(graph, key)\n",
    "\n",
    "    if path not in paths and not None and len(path) > 3:\n",
    "        paths.append(path)\n",
    "\n",
    "for path in paths:\n",
    "    if path == None:\n",
    "        print(\"No opportunity here :(\")\n",
    "    else:\n",
    "        print(len(path))\n",
    "        money = 100\n",
    "        print(\"Starting with %(money)i in %(currency)s\" % {\"money\": money, \"currency\": path[0]})           \n",
    "\n",
    "        for i, value in enumerate(path):\n",
    "            if i + 1 < len(path):\n",
    "                start = path[i]\n",
    "                end = path[i + 1]\n",
    "                rate = math.exp(graph[start][end])\n",
    "                money *= rate*0.998\n",
    "                print(\"%(start)s to %(end)s at %(rate)f = %(money)f\" % {\"start\": start, \"end\": end, \"rate\": rate,\n",
    "                                                                        \"money\": money})\n",
    "print (\"\\n\")\n",
    "\n",
    "\n"
   ]
  },
  {
   "cell_type": "code",
   "execution_count": null,
   "metadata": {},
   "outputs": [],
   "source": []
  }
 ],
 "metadata": {
  "kernelspec": {
   "display_name": "Python 3",
   "language": "python",
   "name": "python3"
  },
  "language_info": {
   "codemirror_mode": {
    "name": "ipython",
    "version": 3
   },
   "file_extension": ".py",
   "mimetype": "text/x-python",
   "name": "python",
   "nbconvert_exporter": "python",
   "pygments_lexer": "ipython3",
   "version": "3.5.2"
  }
 },
 "nbformat": 4,
 "nbformat_minor": 1
}
