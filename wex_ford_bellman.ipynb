{
 "cells": [
  {
   "cell_type": "markdown",
   "metadata": {
    "collapsed": true
   },
   "source": [
    "\n"
   ]
  },
  {
   "cell_type": "code",
   "execution_count": 1,
   "metadata": {},
   "outputs": [
    {
     "name": "stdout",
     "output_type": "stream",
     "text": [
      "{'BCH/BCHET': 1.51285930408472,\n 'BCH/BTC': 0.1123,\n 'BCH/DASH': 2.419,\n 'BCH/ETH': 1.938,\n 'BCH/EUR': 749.246,\n 'BCH/LTC': 6.309,\n 'BCH/RUR': 52465.474,\n 'BCH/USD': 921.86,\n 'BCH/ZEC': 4.12,\n 'BCHET/BCH': 0.661,\n 'BTC/BCH': 8.904719501335709,\n 'BTC/BTCET': 1.5432098765432098,\n 'BTC/DASH': 21.547080370609784,\n 'BTC/ETH': 17.22949689869056,\n 'BTC/EUR': 6680.5582,\n 'BTC/LTC': 56.433408577878104,\n 'BTC/NMC': 5000.0,\n 'BTC/NVC': 2173.913043478261,\n 'BTC/PPC': 4347.826086956522,\n 'BTC/RUR': 468320.45009,\n 'BTC/USD': 8212.0,\n 'BTC/ZEC': 36.76470588235294,\n 'BTCET/BTC': 0.648,\n 'DASH/BCH': 0.41339396444811904,\n 'DASH/BTC': 0.04641,\n 'DASH/DSHET': 1.3908205841446455,\n 'DASH/ETH': 0.801,\n 'DASH/EUR': 309.911,\n 'DASH/LTC': 2.605,\n 'DASH/RUR': 21685.71,\n 'DASH/USD': 380.97871,\n 'DASH/ZEC': 1.704,\n 'DSHET/DASH': 0.719,\n 'ETH/BCH': 0.5159958720330238,\n 'ETH/BTC': 0.05804,\n 'ETH/DASH': 1.2484394506866416,\n 'ETH/ETHET': 1.6447368421052633,\n 'ETH/EUR': 387.06718,\n 'ETH/LTC': 3.26496,\n 'ETH/RUR': 27014.8071,\n 'ETH/USD': 477.64107,\n 'ETH/ZEC': 2.125,\n 'ETHET/ETH': 0.608,\n 'EUR/BCH': 0.0013346751267274033,\n 'EUR/BTC': 0.0001496880904353172,\n 'EUR/DASH': 0.003226732836201361,\n 'EUR/ETH': 0.002583530848572591,\n 'EUR/EURET': 1.5698587127158556,\n 'EUR/LTC': 0.008435330538427148,\n 'EUR/RUR': 70.16003,\n 'EUR/USD': 1.22893,\n 'EURET/EUR': 0.637,\n 'LTC/BCH': 0.15850372483753367,\n 'LTC/BTC': 0.01772,\n 'LTC/DASH': 0.3838771593090211,\n 'LTC/ETH': 0.3062824659413898,\n 'LTC/EUR': 118.549,\n 'LTC/LTCET': 1.7985611510791366,\n 'LTC/RUR': 8313.10613,\n 'LTC/USD': 146.09399,\n 'LTC/ZEC': 0.651890482398957,\n 'LTCET/LTC': 0.556,\n 'NMC/BTC': 0.0002,\n 'NMC/NMCET': 1.451378809869376,\n 'NMC/USD': 1.662,\n 'NMCET/NMC': 0.689,\n 'NVC/BTC': 0.00046,\n 'NVC/NVCET': 1.2484394506866416,\n 'NVC/USD': 3.691,\n 'NVCET/NVC': 0.801,\n 'PPC/BTC': 0.00023,\n 'PPC/PPCET': 1.4184397163120568,\n 'PPC/USD': 1.88,\n 'PPCET/PPC': 0.705,\n 'RUR/BCH': 1.9060153730813524e-05,\n 'RUR/BTC': 2.135290055789415e-06,\n 'RUR/DASH': 4.611331609617578e-05,\n 'RUR/ETH': 3.701673664736255e-05,\n 'RUR/EUR': 0.014253129595298062,\n 'RUR/LTC': 0.00012029198044173171,\n 'RUR/RURET': 1.658374792703151,\n 'RUR/USD': 0.017529808123979217,\n 'RURET/RUR': 0.603,\n 'USD/BCH': 0.001084763413099603,\n 'USD/BTC': 0.00012177301509985388,\n 'USD/DASH': 0.0026248185889442485,\n 'USD/ETH': 0.0020936223093210977,\n 'USD/EUR': 0.8137159968427818,\n 'USD/LTC': 0.006844908541412279,\n 'USD/NMC': 0.601684717208183,\n 'USD/NVC': 0.270929287455974,\n 'USD/PPC': 0.5319148936170213,\n 'USD/RUR': 57.04569,\n 'USD/USDET': 1.4836795252225519,\n 'USD/USDT': 0.9727626459143969,\n 'USD/ZEC': 0.004454362825669602,\n 'USDET/USD': 0.674,\n 'USDT/USD': 1.028,\n 'ZEC/BCH': 0.24271844660194175,\n 'ZEC/BTC': 0.0272,\n 'ZEC/DASH': 0.5868544600938967,\n 'ZEC/ETH': 0.47058823529411764,\n 'ZEC/LTC': 1.534,\n 'ZEC/USD': 224.499}\n"
     ]
    }
   ],
   "source": [
    "\n",
    "import math, json, re, ccxt\n",
    "from pprint import pformat\n",
    "wex = ccxt.wex()\n",
    "data_for_graph = {}\n",
    "data = wex.fetch_tickers()\n",
    "for key in data:\n",
    "    data_for_graph.update({key: data[key]['last']})\n",
    "ticker_list = list(data_for_graph.keys())\n",
    "ticker_list2 = []\n",
    "for key in ticker_list:\n",
    "    ticker_list2.append(\"{1}/{0}\".format(*key.split('/'))) #обратные тикеры\n",
    "\n",
    "for key in range(0, len(ticker_list)):\n",
    "    #обратные котировки\n",
    "    data_for_graph.update({ticker_list2[key]: 1 / (data[ticker_list[key]]['last'])})\n",
    "\n",
    "print(pformat(data_for_graph))\n"
   ]
  },
  {
   "cell_type": "markdown",
   "metadata": {},
   "source": [
    "Создаем граф в виде списка смежности для каждой ноды - тикера криптовалюты, \n",
    "котировки переводим в логарифмический вид."
   ]
  },
  {
   "cell_type": "code",
   "execution_count": 3,
   "metadata": {},
   "outputs": [
    {
     "name": "stdout",
     "output_type": "stream",
     "text": [
      "{b'BCH': {b'BCHET': 0.4140014391304507,\n          b'BTC': -2.18658141723774,\n          b'DASH': 0.8833542316278902,\n          b'ETH': 0.6616565134685745,\n          b'EUR': 6.6190673675105165,\n          b'LTC': 1.8419771853886724,\n          b'RUR': 10.867910594145691,\n          b'USD': 6.8263933682093665,\n          b'ZEC': 1.415853163361435},\n b'BCHET': {b'BCH': -0.41400143913045073},\n b'BTC': {b'BCH': 2.18658141723774,\n          b'BTCET': 0.4338645826298623,\n          b'DASH': 3.0702403257290527,\n          b'ETH': 2.84662285096615,\n          b'EUR': 8.80695682591376,\n          b'LTC': 4.033061333805202,\n          b'NMC': 8.517193191416238,\n          b'NVC': 7.6842840684811335,\n          b'PPC': 8.377431249041079,\n          b'RUR': 13.056908062998875,\n          b'USD': 9.013351778138825,\n          b'ZEC': 3.6045383056801854},\n b'BTCET': {b'BTC': -0.4338645826298623},\n b'DASH': {b'BCH': -0.8833542316278903,\n           b'BTC': -3.0702403257290527,\n           b'DSHET': 0.32989392126109046,\n           b'ETH': -0.22189433191377778,\n           b'EUR': 5.73628515948483,\n           b'LTC': 0.9574326752053303,\n           b'RUR': 9.984408797259876,\n           b'USD': 5.942743494300305,\n           b'ZEC': 0.532978428407124},\n b'DSHET': {b'DASH': -0.3298939212610904},\n b'ETH': {b'BCH': -0.6616565134685745,\n          b'BTC': -2.84662285096615,\n          b'DASH': 0.22189433191377778,\n          b'ETHET': 0.4975803970159701,\n          b'EUR': 5.958598269695747,\n          b'LTC': 1.1832475115048033,\n          b'RUR': 10.20414040577516,\n          b'USD': 6.168859550843564,\n          b'ZEC': 0.7537718023763802},\n b'ETHET': {b'ETH': -0.49758039701597007},\n b'EUR': {b'BCH': -6.6190673675105165,\n          b'BTC': -8.80695682591376,\n          b'DASH': -5.736285159484829,\n          b'ETH': -5.958598269695747,\n          b'EURET': 0.4509856234099737,\n          b'LTC': -4.775326377216453,\n          b'RUR': 4.250778775657907,\n          b'USD': 0.20614387208628487},\n b'EURET': {b'EUR': -0.45098562340997367},\n b'LTC': {b'BCH': -1.8419771853886726,\n          b'BTC': -4.033061333805202,\n          b'DASH': -0.9574326752053303,\n          b'ETH': -1.1832475115048031,\n          b'EUR': 4.775326377216453,\n          b'LTCET': 0.5869869847315546,\n          b'RUR': 9.025588600200466,\n          b'USD': 4.9842501817024605,\n          b'ZEC': -0.42787870294506447},\n b'LTCET': {b'LTC': -0.5869869847315546},\n b'NMC': {b'BTC': -8.517193191416238,\n          b'NMCET': 0.3725140079684786,\n          b'USD': 0.5080216964332565},\n b'NMCET': {b'NMC': -0.37251400796847856},\n b'NVC': {b'BTC': -7.6842840684811335,\n          b'NVCET': 0.22189433191377778,\n          b'USD': 1.3058974240478616},\n b'NVCET': {b'NVC': -0.22189433191377778},\n b'PPC': {b'BTC': -8.377431249041079,\n          b'PPCET': 0.34955747616986843,\n          b'USD': 0.6312717768418578},\n b'PPCET': {b'PPC': -0.34955747616986843},\n b'RUR': {b'BCH': -10.867910594145691,\n          b'BTC': -13.056908062998875,\n          b'DASH': -9.984408797259874,\n          b'ETH': -10.20414040577516,\n          b'EUR': -4.250778775657907,\n          b'LTC': -9.025588600200466,\n          b'RURET': 0.5058380822549516,\n          b'USD': -4.04385252568909},\n b'RURET': {b'RUR': -0.5058380822549516},\n b'USD': {b'BCH': -6.8263933682093665,\n          b'BTC': -9.013351778138825,\n          b'DASH': -5.942743494300305,\n          b'ETH': -6.168859550843564,\n          b'EUR': -0.2061438720862849,\n          b'LTC': -4.9842501817024605,\n          b'NMC': -0.5080216964332563,\n          b'NVC': -1.3058974240478616,\n          b'PPC': -0.6312717768418579,\n          b'RUR': 4.04385252568909,\n          b'USDET': 0.39452516806982996,\n          b'USDT': -0.02761516703297338,\n          b'ZEC': -5.413871252829404},\n b'USDET': {b'USD': -0.39452516806982996},\n b'USDT': {b'USD': 0.02761516703297339},\n b'ZEC': {b'BCH': -1.415853163361435,\n          b'BTC': -3.6045383056801854,\n          b'DASH': -0.532978428407124,\n          b'ETH': -0.7537718023763802,\n          b'LTC': 0.42787870294506447,\n          b'USD': 5.413871252829404}}\n"
     ]
    }
   ],
   "source": [
    "graph = {}\n",
    "jsrates = data_for_graph\n",
    "\n",
    "pattern = re.compile(\"([A-Z]{3,5})/([A-Z]{3,5})\")\n",
    "\n",
    "try:\n",
    "    for key in jsrates:\n",
    "        matches = pattern.match(key)\n",
    "\n",
    "        conversion_rate = math.log(float(jsrates[key]))\n",
    "        \n",
    "        from_rate = matches.group(1).encode('ascii', 'ignore')\n",
    "\n",
    "        to_rate = matches.group(2).encode('ascii', 'ignore')\n",
    "\n",
    "        if from_rate != to_rate:\n",
    "            if from_rate not in graph:\n",
    "                graph[from_rate] = {}\n",
    "            graph[from_rate][to_rate] = float(conversion_rate)\n",
    "\n",
    "except AttributeError:\n",
    "    print('Strange rate')\n",
    "    pass\n",
    "\n",
    "print(pformat(graph))\n",
    "# воплощение алгоритма отсюда\n",
    "#  https://gist.github.com/joninvski/701720\n"
   ]
  },
  {
   "cell_type": "heading",
   "metadata": {},
   "level": 1,
   "source": [
    "Подготавливаем данные по каждой вершине графа согласно и ищем отрицательный цикл в полученном графе\n"
   ]
  },
  {
   "cell_type": "code",
   "execution_count": 4,
   "metadata": {},
   "outputs": [],
   "source": [
    "\n",
    "\n",
    "# Step 1: For each node prepare the destination and predecessor\n",
    "def initialize(graph, source):\n",
    "    d = {}  # Stands for destination\n",
    "    p = {}  # Stands for predecessor\n",
    "    for node in graph:\n",
    "        d[node] = float('Inf')  # We start admiting that the rest of nodes are very very far\n",
    "        p[node] = None\n",
    "    d[source] = 0  # For the source we know how to reach\n",
    "    return d, p\n",
    "\n",
    "\n",
    "def relax(node, neighbour, graph, d, p):\n",
    "    # If the distance between the node and the neighbour is lower than the one I have now\n",
    "    if d[neighbour] > d[node] + graph[node][neighbour]:\n",
    "        # Record this lower distance\n",
    "        d[neighbour] = d[node] + graph[node][neighbour]\n",
    "        p[neighbour] = node\n",
    "\n",
    "\n",
    "def retrace_negative_loop(p, start):\n",
    "    arbitrageLoop = [start]\n",
    "    next_node = start\n",
    "    while True:\n",
    "        next_node = p[next_node]\n",
    "        if next_node not in arbitrageLoop:\n",
    "            arbitrageLoop.append(next_node)\n",
    "        else:\n",
    "            arbitrageLoop.append(next_node)\n",
    "            arbitrageLoop = arbitrageLoop[arbitrageLoop.index(next_node):]\n",
    "            return arbitrageLoop\n",
    "\n",
    "\n",
    "def bellman_ford(graph, source):\n",
    "    d, p = initialize(graph, source)\n",
    "    for i in range(len(graph) - 1):  # Run this until is converges\n",
    "        for u in graph:\n",
    "            for v in graph[u]:  # For each neighbour of u\n",
    "                relax(u, v, graph, d, p)  # Lets relax it\n",
    "\n",
    "    # Step 3: check for negative-weight cycles\n",
    "    for u in graph:\n",
    "        for v in graph[u]:\n",
    "            if d[v] < d[u] + graph[u][v]:\n",
    "                return (retrace_negative_loop(p, source))\n",
    "    return None\n"
   ]
  },
  {
   "cell_type": "heading",
   "metadata": {},
   "level": 1,
   "source": [
    "Применяем алгоритм поиска и выводим ноды, входящие в отрицательный цикл, если он существует"
   ]
  },
  {
   "cell_type": "markdown",
   "metadata": {},
   "source": []
  },
  {
   "cell_type": "code",
   "execution_count": 6,
   "metadata": {},
   "outputs": [
    {
     "name": "stdout",
     "output_type": "stream",
     "text": [
      "Starting with 100 in b'BTC'\nb'BTC' to b'NMC' at 5000.000000 = 499000.000000\nb'NMC' to b'USD' at 1.662000 = 827679.324000\nb'USD' to b'BTC' at 0.000122 = 100.587429\n\n\n"
     ]
    }
   ],
   "source": [
    " paths = []\n",
    " for key in graph:\n",
    "\n",
    "    path = bellman_ford(graph, key)\n",
    "\n",
    "    if path not in paths and not None and len(path)>3:\n",
    "        paths.append(path)\n",
    "\n",
    "for path in paths:\n",
    "    if path == None:\n",
    "        print(\"No opportunity here :(\")\n",
    "    else:\n",
    "        \n",
    "        money = 100\n",
    "        print(\"Starting with %(money)i in %(currency)s\" % {\"money\": money, \"currency\": path[0]})           \n",
    "\n",
    "        for i, value in enumerate(path):\n",
    "            if i + 1 < len(path):\n",
    "                start = path[i]\n",
    "                end = path[i + 1]\n",
    "                rate = math.exp(graph[start][end])\n",
    "                money *= rate*0.998\n",
    "                print(\"%(start)s to %(end)s at %(rate)f = %(money)f\" % {\"start\": start, \"end\": end, \"rate\": rate,\n",
    "                                                                        \"money\": money})\n",
    "print (\"\\n\")\n",
    "\n",
    " "
   ]
  },
  {
   "cell_type": "code",
   "execution_count": 0,
   "metadata": {},
   "outputs": [],
   "source": [
    ""
   ]
  },
  {
   "cell_type": "code",
   "execution_count": 39,
   "metadata": {},
   "outputs": [],
   "source": []
  },
  {
   "cell_type": "code",
   "execution_count": null,
   "metadata": {},
   "outputs": [],
   "source": []
  }
 ],
 "metadata": {
  "kernelspec": {
   "display_name": "Python 3",
   "language": "python",
   "name": "python3"
  },
  "language_info": {
   "codemirror_mode": {
    "name": "ipython",
    "version": 3
   },
   "file_extension": ".py",
   "mimetype": "text/x-python",
   "name": "python",
   "nbconvert_exporter": "python",
   "pygments_lexer": "ipython3",
   "version": "3.5.2"
  }
 },
 "nbformat": 4,
 "nbformat_minor": 1
}
