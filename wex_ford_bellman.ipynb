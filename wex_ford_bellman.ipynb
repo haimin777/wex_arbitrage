{
 "cells": [
  {
   "cell_type": "markdown",
   "metadata": {
    "collapsed": true
   },
   "source": [
    "\n"
   ]
  },
  {
   "cell_type": "code",
   "execution_count": 4,
   "metadata": {},
   "outputs": [
    {
     "name": "stdout",
     "output_type": "stream",
     "text": [
      "{'BCH/BCHET': 1.5015015015015014,\n 'BCH/BTC': 0.1131,\n 'BCH/DASH': 2.378,\n 'BCH/ETH': 1.888,\n 'BCH/EUR': 756.018,\n 'BCH/LTC': 6.159,\n 'BCH/RUR': 52325.205,\n 'BCH/USD': 927.471,\n 'BCH/ZEC': 4.087,\n 'BCHET/BCH': 0.666,\n 'BTC/BCH': 8.841732979664014,\n 'BTC/BTCET': 1.5151515151515151,\n 'BTC/DASH': 21.04820037886761,\n 'BTC/ETH': 16.70285618840822,\n 'BTC/EUR': 6697.16213,\n 'BTC/LTC': 54.614964500273075,\n 'BTC/NMC': 5000.0,\n 'BTC/NVC': 2127.6595744680853,\n 'BTC/PPC': 4347.826086956522,\n 'BTC/RUR': 462427.13214,\n 'BTC/USD': 8207.505,\n 'BTC/ZEC': 36.101083032490976,\n 'BTCET/BTC': 0.66,\n 'DASH/BCH': 0.42052144659377627,\n 'DASH/BTC': 0.04751,\n 'DASH/DSHET': 1.402524544179523,\n 'DASH/ETH': 0.792,\n 'DASH/EUR': 317.192,\n 'DASH/LTC': 2.599,\n 'DASH/RUR': 22023.389,\n 'DASH/USD': 389.02454,\n 'DASH/ZEC': 1.716,\n 'DSHET/DASH': 0.713,\n 'ETH/BCH': 0.5296610169491526,\n 'ETH/BTC': 0.05987,\n 'ETH/DASH': 1.2626262626262625,\n 'ETH/ETHET': 1.6611295681063123,\n 'ETH/EUR': 402.28562,\n 'ETH/LTC': 3.26881,\n 'ETH/RUR': 27787.89192,\n 'ETH/USD': 491.095,\n 'ETH/ZEC': 2.16,\n 'ETHET/ETH': 0.602,\n 'EUR/BCH': 0.0013227198294220508,\n 'EUR/BTC': 0.00014931697644297585,\n 'EUR/DASH': 0.0031526646321470907,\n 'EUR/ETH': 0.002485796037153901,\n 'EUR/EURET': 1.557632398753894,\n 'EUR/LTC': 0.008157338749806264,\n 'EUR/RUR': 69.40091,\n 'EUR/USD': 1.22616,\n 'EURET/EUR': 0.642,\n 'LTC/BCH': 0.1623640201331385,\n 'LTC/BTC': 0.01831,\n 'LTC/DASH': 0.3847633705271258,\n 'LTC/ETH': 0.3059217268669638,\n 'LTC/EUR': 122.589,\n 'LTC/LTCET': 1.7889087656529514,\n 'LTC/RUR': 8479.18848,\n 'LTC/USD': 150.27934,\n 'LTC/ZEC': 0.6600660066006601,\n 'LTCET/LTC': 0.559,\n 'NMC/BTC': 0.0002,\n 'NMC/NMCET': 1.4727540500736376,\n 'NMC/USD': 1.65,\n 'NMCET/NMC': 0.679,\n 'NVC/BTC': 0.00047,\n 'NVC/NVCET': 1.2195121951219512,\n 'NVC/USD': 3.9,\n 'NVCET/NVC': 0.82,\n 'PPC/BTC': 0.00023,\n 'PPC/PPCET': 1.4184397163120568,\n 'PPC/USD': 1.879,\n 'PPCET/PPC': 0.705,\n 'RUR/BCH': 1.9111248584692595e-05,\n 'RUR/BTC': 2.162502869094735e-06,\n 'RUR/DASH': 4.540627239522491e-05,\n 'RUR/ETH': 3.598689684265909e-05,\n 'RUR/EUR': 0.01440903296512971,\n 'RUR/LTC': 0.00011793581453681755,\n 'RUR/RURET': 1.6666666666666667,\n 'RUR/USD': 0.017738437864469467,\n 'RURET/RUR': 0.6,\n 'USD/BCH': 0.0010782008278425956,\n 'USD/BTC': 0.0001218397064637792,\n 'USD/DASH': 0.0025705319258265817,\n 'USD/ETH': 0.0020362658956006472,\n 'USD/EUR': 0.8155542506687545,\n 'USD/LTC': 0.0066542746328271075,\n 'USD/NMC': 0.6060606060606061,\n 'USD/NVC': 0.25641025641025644,\n 'USD/PPC': 0.532197977647685,\n 'USD/RUR': 56.37475,\n 'USD/USDET': 1.497005988023952,\n 'USD/USDT': 0.9940357852882704,\n 'USD/ZEC': 0.004405286343612335,\n 'USDET/USD': 0.668,\n 'USDT/USD': 1.006,\n 'ZEC/BCH': 0.24467824810374358,\n 'ZEC/BTC': 0.0277,\n 'ZEC/DASH': 0.5827505827505828,\n 'ZEC/ETH': 0.4629629629629629,\n 'ZEC/LTC': 1.515,\n 'ZEC/USD': 227.0}\n"
     ]
    }
   ],
   "source": [
    "\n",
    "import math, json, re, ccxt\n",
    "from pprint import pformat\n",
    "wex = ccxt.wex()\n",
    "data_for_graph = {}\n",
    "data = wex.fetch_tickers()\n",
    "for key in data:\n",
    "    data_for_graph.update({key: data[key]['last']})\n",
    "ticker_list = list(data_for_graph.keys())\n",
    "ticker_list2 = []\n",
    "for key in ticker_list:\n",
    "    ticker_list2.append(\"{1}/{0}\".format(*key.split('/'))) #обратные тикеры\n",
    "\n",
    "for key in range(0, len(ticker_list)):\n",
    "    #обратные котировки\n",
    "    data_for_graph.update({ticker_list2[key]: 1 / (data[ticker_list[key]]['last'])})\n",
    "\n",
    "print(pformat(data_for_graph))\n"
   ]
  },
  {
   "cell_type": "markdown",
   "metadata": {},
   "source": [
    "Создаем граф в виде списка смежности для каждой ноды - тикера криптовалюты, \n",
    "котировки переводим в логарифмический вид."
   ]
  },
  {
   "cell_type": "code",
   "execution_count": 7,
   "metadata": {},
   "outputs": [],
   "source": [
    "graph = {}\n",
    "jsrates = data_for_graph\n",
    "\n",
    "pattern = re.compile(\"([A-Z]{3,5})/([A-Z]{3,5})\")\n",
    "\n",
    "try:\n",
    "    for key in jsrates:\n",
    "        matches = pattern.match(key)\n",
    "\n",
    "        conversion_rate = math.log(float(jsrates[key]))\n",
    "        \n",
    "        from_rate = matches.group(1).encode('ascii', 'ignore')\n",
    "\n",
    "        to_rate = matches.group(2).encode('ascii', 'ignore')\n",
    "\n",
    "        if from_rate != to_rate:\n",
    "            if from_rate not in graph:\n",
    "                graph[from_rate] = {}\n",
    "            graph[from_rate][to_rate] = float(conversion_rate)\n",
    "\n",
    "except AttributeError:\n",
    "    print('Strange rate')\n",
    "    pass\n",
    "\n",
    "print(pformat(graph))\n",
    "# воплощение алгоритма отсюда\n",
    "#  https://gist.github.com/joninvski/701720\n"
   ]
  },
  {
   "cell_type": "heading",
   "metadata": {},
   "level": 1,
   "source": [
    "Подготавливаем данные по каждой вершине графа согласно и ищем отрицательный цикл в полученном графе\n"
   ]
  },
  {
   "cell_type": "code",
   "execution_count": 8,
   "metadata": {},
   "outputs": [],
   "source": [
    "\n",
    "\n",
    "# Step 1: For each node prepare the destination and predecessor\n",
    "def initialize(graph, source):\n",
    "    d = {}  # Stands for destination\n",
    "    p = {}  # Stands for predecessor\n",
    "    for node in graph:\n",
    "        d[node] = float('Inf')  # We start admiting that the rest of nodes are very very far\n",
    "        p[node] = None\n",
    "    d[source] = 0  # For the source we know how to reach\n",
    "    return d, p\n",
    "\n",
    "\n",
    "def relax(node, neighbour, graph, d, p):\n",
    "    # If the distance between the node and the neighbour is lower than the one I have now\n",
    "    if d[neighbour] > d[node] + graph[node][neighbour]:\n",
    "        # Record this lower distance\n",
    "        d[neighbour] = d[node] + graph[node][neighbour]\n",
    "        p[neighbour] = node\n",
    "\n",
    "\n",
    "def retrace_negative_loop(p, start):\n",
    "    arbitrageLoop = [start]\n",
    "    next_node = start\n",
    "    while True:\n",
    "        next_node = p[next_node]\n",
    "        if next_node not in arbitrageLoop:\n",
    "            arbitrageLoop.append(next_node)\n",
    "        else:\n",
    "            arbitrageLoop.append(next_node)\n",
    "            arbitrageLoop = arbitrageLoop[arbitrageLoop.index(next_node):]\n",
    "            return arbitrageLoop\n",
    "\n",
    "\n",
    "def bellman_ford(graph, source):\n",
    "    d, p = initialize(graph, source)\n",
    "    for i in range(len(graph) - 1):  # Run this until is converges\n",
    "        for u in graph:\n",
    "            for v in graph[u]:  # For each neighbour of u\n",
    "                relax(u, v, graph, d, p)  # Lets relax it\n",
    "\n",
    "    # Step 3: check for negative-weight cycles\n",
    "    for u in graph:\n",
    "        for v in graph[u]:\n",
    "            if d[v] < d[u] + graph[u][v]:\n",
    "                return (retrace_negative_loop(p, source))\n",
    "    return None\n"
   ]
  },
  {
   "cell_type": "heading",
   "metadata": {},
   "level": 1,
   "source": [
    "Применяем алгоритм поиска и выводим ноды, входящие в отрицательный цикл, если он существует"
   ]
  },
  {
   "cell_type": "markdown",
   "metadata": {},
   "source": []
  },
  {
   "cell_type": "code",
   "execution_count": 9,
   "metadata": {},
   "outputs": [
    {
     "name": "stdout",
     "output_type": "stream",
     "text": [
      "Starting with 100 in b'BTC'\nb'BTC' to b'DASH' at 21.048200 = 2104.820038\nb'DASH' to b'BCH' at 0.420521 = 885.121967\nb'BCH' to b'BTC' at 0.113100 = 100.107294\nStarting with 100 in b'NVC'\nb'NVC' to b'USD' at 3.900000 = 390.000000\nb'USD' to b'DASH' at 0.002571 = 1.002507\nb'DASH' to b'BCH' at 0.420521 = 0.421576\nb'BCH' to b'BTC' at 0.113100 = 0.047680\nb'BTC' to b'NVC' at 2127.659574 = 101.447303\nStarting with 100 in b'USD'\nb'USD' to b'DASH' at 0.002571 = 0.257053\nb'DASH' to b'BCH' at 0.420521 = 0.108096\nb'BCH' to b'BTC' at 0.113100 = 0.012226\nb'BTC' to b'NVC' at 2127.659574 = 26.012129\nb'NVC' to b'USD' at 3.900000 = 101.447303\nStarting with 100 in b'BCH'\nb'BCH' to b'BTC' at 0.113100 = 11.310000\nb'BTC' to b'NVC' at 2127.659574 = 24063.829787\nb'NVC' to b'USD' at 3.900000 = 93848.936170\nb'USD' to b'DASH' at 0.002571 = 241.241687\nb'DASH' to b'BCH' at 0.420521 = 101.447303\nStarting with 100 in b'BTC'\nb'BTC' to b'NVC' at 2127.659574 = 212765.957447\nb'NVC' to b'USD' at 3.900000 = 829787.234043\nb'USD' to b'DASH' at 0.002571 = 2132.994577\nb'DASH' to b'BCH' at 0.420521 = 896.969965\nb'BCH' to b'BTC' at 0.113100 = 101.447303\nStarting with 100 in b'DASH'\nb'DASH' to b'BCH' at 0.420521 = 42.052145\nb'BCH' to b'BTC' at 0.113100 = 4.756098\nb'BTC' to b'DASH' at 21.048200 = 100.107294\nStarting with 100 in b'BCH'\nb'BCH' to b'BTC' at 0.113100 = 11.310000\nb'BTC' to b'DASH' at 21.048200 = 238.055146\nb'DASH' to b'BCH' at 0.420521 = 100.107294\nStarting with 100 in b'DASH'\nb'DASH' to b'BCH' at 0.420521 = 42.052145\nb'BCH' to b'BTC' at 0.113100 = 4.756098\nb'BTC' to b'NVC' at 2127.659574 = 10119.356513\nb'NVC' to b'USD' at 3.900000 = 39465.490400\nb'USD' to b'DASH' at 0.002571 = 101.447303\n\n\n"
     ]
    }
   ],
   "source": [
    " paths = []\n",
    " for key in graph:\n",
    "\n",
    "    path = bellman_ford(graph, key)\n",
    "\n",
    "    if path not in paths and not None and len(path)>3:\n",
    "        paths.append(path)\n",
    "\n",
    "for path in paths:\n",
    "    if path == None:\n",
    "        print(\"No opportunity here :(\")\n",
    "    else:\n",
    "        \n",
    "        money = 100\n",
    "        print(\"Starting with %(money)i in %(currency)s\" % {\"money\": money, \"currency\": path[0]})           \n",
    "\n",
    "        for i, value in enumerate(path):\n",
    "            if i + 1 < len(path):\n",
    "                start = path[i]\n",
    "                end = path[i + 1]\n",
    "                rate = math.exp(graph[start][end])\n",
    "                money *= rate\n",
    "                print(\"%(start)s to %(end)s at %(rate)f = %(money)f\" % {\"start\": start, \"end\": end, \"rate\": rate,\n",
    "                                                                        \"money\": money})\n",
    "print (\"\\n\")\n",
    "\n",
    " "
   ]
  },
  {
   "cell_type": "code",
   "execution_count": 46,
   "metadata": {},
   "outputs": [],
   "source": [
    ""
   ]
  },
  {
   "cell_type": "code",
   "execution_count": 39,
   "metadata": {},
   "outputs": [],
   "source": []
  },
  {
   "cell_type": "code",
   "execution_count": null,
   "metadata": {},
   "outputs": [],
   "source": []
  }
 ],
 "metadata": {
  "kernelspec": {
   "display_name": "Python 3",
   "language": "python",
   "name": "python3"
  },
  "language_info": {
   "codemirror_mode": {
    "name": "ipython",
    "version": 3
   },
   "file_extension": ".py",
   "mimetype": "text/x-python",
   "name": "python",
   "nbconvert_exporter": "python",
   "pygments_lexer": "ipython3",
   "version": "3.5.2"
  }
 },
 "nbformat": 4,
 "nbformat_minor": 1
}
