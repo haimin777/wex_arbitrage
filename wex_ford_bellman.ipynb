{
 "cells": [
  {
   "cell_type": "markdown",
   "metadata": {
    "collapsed": true
   },
   "source": [
    "\n"
   ]
  },
  {
   "cell_type": "code",
   "execution_count": 28,
   "metadata": {},
   "outputs": [
    {
     "name": "stdout",
     "output_type": "stream",
     "text": [
      "{'BCH/BCHET': 1.51285930408472,\n 'BCH/BTC': 0.1119,\n 'BCH/DASH': 2.434,\n 'BCH/ETH': 1.946,\n 'BCH/EUR': 738.12,\n 'BCH/LTC': 6.299,\n 'BCH/RUR': 51419.051,\n 'BCH/USD': 900.0,\n 'BCH/ZEC': 4.104,\n 'BCHET/BCH': 0.66,\n 'BTC/BCH': 8.904719501335709,\n 'BTC/BTCET': 1.5432098765432098,\n 'BTC/DASH': 21.68726957276079,\n 'BTC/ETH': 17.289073305670815,\n 'BTC/EUR': 6556.05324,\n 'BTC/LTC': 56.306306306306304,\n 'BTC/NMC': 4761.9047619047615,\n 'BTC/NVC': 2127.6595744680853,\n 'BTC/PPC': 4347.826086956522,\n 'BTC/RUR': 459999.99999,\n 'BTC/USD': 8023.02,\n 'BTC/ZEC': 36.496350364963504,\n 'BTCET/BTC': 0.645,\n 'DASH/BCH': 0.40866366979975477,\n 'DASH/BTC': 0.04583,\n 'DASH/DSHET': 1.3888888888888888,\n 'DASH/ETH': 0.795,\n 'DASH/EUR': 302.314,\n 'DASH/LTC': 2.587,\n 'DASH/RUR': 21087.963,\n 'DASH/USD': 368.94779,\n 'DASH/ZEC': 1.682,\n 'DSHET/DASH': 0.715,\n 'ETH/BCH': 0.5102040816326531,\n 'ETH/BTC': 0.05753,\n 'ETH/DASH': 1.2484394506866416,\n 'ETH/ETHET': 1.6313213703099512,\n 'ETH/EUR': 377.5243,\n 'ETH/LTC': 3.236,\n 'ETH/RUR': 26400.0,\n 'ETH/USD': 463.0,\n 'ETH/ZEC': 2.109,\n 'ETHET/ETH': 0.61,\n 'EUR/BCH': 0.001347394744891016,\n 'EUR/BTC': 0.0001513538601274865,\n 'EUR/DASH': 0.0032828324278187217,\n 'EUR/ETH': 0.0026327274400730024,\n 'EUR/EURET': 1.557632398753894,\n 'EUR/LTC': 0.008547666059782376,\n 'EUR/RUR': 69.75251,\n 'EUR/USD': 1.2216,\n 'EURET/EUR': 0.637,\n 'LTC/BCH': 0.1575299306868305,\n 'LTC/BTC': 0.01766,\n 'LTC/DASH': 0.38402457757296465,\n 'LTC/ETH': 0.3070696648948747,\n 'LTC/EUR': 116.388,\n 'LTC/LTCET': 1.7921146953405016,\n 'LTC/RUR': 8142.71377,\n 'LTC/USD': 142.13,\n 'LTC/ZEC': 0.6489292667099287,\n 'LTCET/LTC': 0.556,\n 'NMC/BTC': 0.0002,\n 'NMC/NMCET': 1.451378809869376,\n 'NMC/USD': 1.65,\n 'NMCET/NMC': 0.682,\n 'NVC/BTC': 0.00045,\n 'NVC/NVCET': 1.2345679012345678,\n 'NVC/USD': 3.723,\n 'NVCET/NVC': 0.801,\n 'PPC/BTC': 0.00022,\n 'PPC/PPCET': 1.394700139470014,\n 'PPC/USD': 1.849,\n 'PPCET/PPC': 0.705,\n 'RUR/BCH': 1.9312733959287367e-05,\n 'RUR/BTC': 2.172079808497642e-06,\n 'RUR/DASH': 4.7043318051781895e-05,\n 'RUR/ETH': 3.7679500430111497e-05,\n 'RUR/EUR': 0.01424550735873051,\n 'RUR/LTC': 0.00012207391451496784,\n 'RUR/RURET': 1.6474464579901154,\n 'RUR/USD': 0.01750715605003545,\n 'RURET/RUR': 0.604,\n 'USD/BCH': 0.0011029529358952724,\n 'USD/BTC': 0.00012395260052555903,\n 'USD/DASH': 0.0026897265892921983,\n 'USD/ETH': 0.0021505839297744885,\n 'USD/EUR': 0.8144250973237992,\n 'USD/LTC': 0.006993006993006993,\n 'USD/NMC': 0.5998800239952009,\n 'USD/NVC': 0.2626740215392698,\n 'USD/PPC': 0.5405405405405405,\n 'USD/RUR': 57.1191,\n 'USD/USDET': 1.4727540500736376,\n 'USD/USDT': 0.984251968503937,\n 'USD/ZEC': 0.004545888471172248,\n 'USDET/USD': 0.674,\n 'USDT/USD': 1.008,\n 'ZEC/BCH': 0.24213075060532688,\n 'ZEC/BTC': 0.0272,\n 'ZEC/DASH': 0.5903187721369539,\n 'ZEC/ETH': 0.4710315591144606,\n 'ZEC/LTC': 1.532,\n 'ZEC/USD': 219.555}\n"
     ]
    }
   ],
   "source": [
    "\n",
    "import math, json, re, ccxt\n",
    "from pprint import pformat\n",
    "wex = ccxt.wex()\n",
    "data_for_graph = {}\n",
    "data = wex.fetch_tickers()\n",
    "for key in data:\n",
    "    data_for_graph.update({key: data[key]['bid']})\n",
    "ticker_list = list(data_for_graph.keys())\n",
    "ticker_list2 = []\n",
    "for key in ticker_list:\n",
    "    ticker_list2.append(\"{1}/{0}\".format(*key.split('/'))) #обратные тикеры\n",
    "\n",
    "for key in range(0, len(ticker_list)):\n",
    "    #обратные котировки\n",
    "    data_for_graph.update({ticker_list2[key]: 1 / (data[ticker_list[key]]['ask'])})\n",
    "\n",
    "print(pformat(data_for_graph))\n"
   ]
  },
  {
   "cell_type": "markdown",
   "metadata": {},
   "source": [
    "Создаем граф в виде списка смежности для каждой ноды - тикера криптовалюты, \n",
    "котировки переводим в логарифмический вид."
   ]
  },
  {
   "cell_type": "code",
   "execution_count": 29,
   "metadata": {},
   "outputs": [
    {
     "name": "stdout",
     "output_type": "stream",
     "text": [
      "{b'BCH': {b'BCHET': 0.4140014391304507,\n          b'BTC': -2.1901496636642577,\n          b'DASH': 0.8895359945653355,\n          b'ETH': 0.6657759837638133,\n          b'EUR': 6.604106413008277,\n          b'LTC': 1.840390890639792,\n          b'RUR': 10.847764024795815,\n          b'USD': 6.802394763324311,\n          b'ZEC': 1.4119621078684685},\n b'BCHET': {b'BCH': -0.4155154439616658},\n b'BTC': {b'BCH': 2.18658141723774,\n          b'BTCET': 0.4338645826298623,\n          b'DASH': 3.076725432763523,\n          b'ETH': 2.8500747011316276,\n          b'EUR': 8.788144060636116,\n          b'LTC': 4.030806541418113,\n          b'NMC': 8.468403027246806,\n          b'NVC': 7.66277786326017,\n          b'PPC': 8.377431249041079,\n          b'RUR': 13.038981768443538,\n          b'USD': 8.990070188583653,\n          b'ZEC': 3.5972122655881127},\n b'BTCET': {b'BTC': -0.43850496218636453},\n b'DASH': {b'BCH': -0.8948627844605347,\n           b'BTC': -3.082816380461104,\n           b'DSHET': 0.32850406697203605,\n           b'ETH': -0.2294131643278051,\n           b'EUR': 5.711466212324045,\n           b'LTC': 0.9504989032038922,\n           b'RUR': 9.956457682748342,\n           b'USD': 5.910655143514894,\n           b'ZEC': 0.5199835615507563},\n b'DSHET': {b'DASH': -0.33547273628812946},\n b'ETH': {b'BCH': -0.6729444732424258,\n          b'BTC': -2.855448728106935,\n          b'DASH': 0.22189433191377778,\n          b'ETHET': 0.4893903430459257,\n          b'EUR': 5.933634937478292,\n          b'LTC': 1.1743379991962453,\n          b'RUR': 10.181119289134408,\n          b'USD': 6.137727054086234,\n          b'ZEC': 0.7462139014966376},\n b'ETHET': {b'ETH': -0.4942963218147801},\n b'EUR': {b'BCH': -6.609582369630108,\n          b'BTC': -8.795890018180314,\n          b'DASH': -5.7190486841599295,\n          b'ETH': -5.939734920699354,\n          b'EURET': 0.44316697529217586,\n          b'LTC': -4.762097008762101,\n          b'RUR': 4.244953405717089,\n          b'USD': 0.20016147492228564},\n b'EURET': {b'EUR': -0.45098562340997367},\n b'LTC': {b'BCH': -1.8481398026641627,\n          b'BTC': -4.0364530838063235,\n          b'DASH': -0.9570487243463228,\n          b'ETH': -1.1806806356560484,\n          b'EUR': 4.756929437199406,\n          b'LTCET': 0.583396316600826,\n          b'RUR': 9.004878790413382,\n          b'USD': 4.956742131750921,\n          b'ZEC': -0.4324315563379786},\n b'LTCET': {b'LTC': -0.5869869847315546},\n b'NMC': {b'BTC': -8.517193191416238,\n          b'NMCET': 0.3725140079684786,\n          b'USD': 0.5007752879124892},\n b'NMCET': {b'NMC': -0.38272562113867487},\n b'NVC': {b'BTC': -7.706262975199909,\n          b'NVCET': 0.21072103131565253,\n          b'USD': 1.3145297948905799},\n b'NVCET': {b'NVC': -0.22189433191377778},\n b'PPC': {b'BTC': -8.421883011611913,\n          b'PPCET': 0.33267943838251673,\n          b'USD': 0.6146449524049877},\n b'PPCET': {b'PPC': -0.34955747616986843},\n b'RUR': {b'BCH': -10.854745888982931,\n          b'BTC': -13.039825412323788,\n          b'DASH': -9.964441720046416,\n          b'ETH': -10.18639436656822,\n          b'EUR': -4.251313695048024,\n          b'LTC': -9.010883840008017,\n          b'RURET': 0.4992264879226388,\n          b'USD': -4.045145564491617},\n b'RURET': {b'RUR': -0.5041810810473222},\n b'USD': {b'BCH': -6.809764208800391,\n          b'BTC': -8.995611319262991,\n          b'DASH': -5.918315730202378,\n          b'ETH': -6.142015878473929,\n          b'EUR': -0.205272816711056,\n          b'LTC': -4.962844630259907,\n          b'NMC': -0.511025603768657,\n          b'NVC': -1.3368414774003603,\n          b'PPC': -0.6151856390902336,\n          b'RUR': 4.045138561604676,\n          b'USDET': 0.3871341514234408,\n          b'USDT': -0.01587334915629012,\n          b'ZEC': -5.393532087250832},\n b'USDET': {b'USD': -0.39452516806982996},\n b'USDT': {b'USD': 0.007968169649176881},\n b'ZEC': {b'BCH': -1.4182774069729414,\n          b'BTC': -3.6045383056801854,\n          b'DASH': -0.5270925962298627,\n          b'ETH': -0.7528301827211192,\n          b'LTC': 0.4265740713183996,\n          b'USD': 5.3916027706040195}}\n"
     ]
    }
   ],
   "source": [
    "graph = {}\n",
    "jsrates = data_for_graph\n",
    "\n",
    "pattern = re.compile(\"([A-Z]{3,5})/([A-Z]{3,5})\")\n",
    "\n",
    "try:\n",
    "    for key in jsrates:\n",
    "        matches = pattern.match(key)\n",
    "\n",
    "        conversion_rate = math.log(float(jsrates[key]))\n",
    "        \n",
    "        from_rate = matches.group(1).encode('ascii', 'ignore')\n",
    "\n",
    "        to_rate = matches.group(2).encode('ascii', 'ignore')\n",
    "\n",
    "        if from_rate != to_rate:\n",
    "            if from_rate not in graph:\n",
    "                graph[from_rate] = {}\n",
    "            graph[from_rate][to_rate] = float(conversion_rate)\n",
    "\n",
    "except AttributeError:\n",
    "    print('Strange rate')\n",
    "    pass\n",
    "\n",
    "print(pformat(graph))\n",
    "# воплощение алгоритма отсюда\n",
    "#  https://gist.github.com/joninvski/701720\n"
   ]
  },
  {
   "cell_type": "heading",
   "metadata": {},
   "level": 1,
   "source": [
    "Подготавливаем данные по каждой вершине графа согласно и ищем отрицательный цикл в полученном графе\n"
   ]
  },
  {
   "cell_type": "code",
   "execution_count": 30,
   "metadata": {},
   "outputs": [],
   "source": [
    "\n",
    "\n",
    "# Step 1: For each node prepare the destination and predecessor\n",
    "def initialize(graph, source):\n",
    "    d = {}  # Stands for destination\n",
    "    p = {}  # Stands for predecessor\n",
    "    for node in graph:\n",
    "        d[node] = float('Inf')  # We start admiting that the rest of nodes are very very far\n",
    "        p[node] = None\n",
    "    d[source] = 0  # For the source we know how to reach\n",
    "    return d, p\n",
    "\n",
    "\n",
    "def relax(node, neighbour, graph, d, p):\n",
    "    # If the distance between the node and the neighbour is lower than the one I have now\n",
    "    if d[neighbour] > d[node] + graph[node][neighbour]:\n",
    "        # Record this lower distance\n",
    "        d[neighbour] = d[node] + graph[node][neighbour]\n",
    "        p[neighbour] = node\n",
    "\n",
    "\n",
    "def retrace_negative_loop(p, start):\n",
    "    arbitrageLoop = [start]\n",
    "    next_node = start\n",
    "    while True:\n",
    "        next_node = p[next_node]\n",
    "        if next_node not in arbitrageLoop:\n",
    "            arbitrageLoop.append(next_node)\n",
    "        else:\n",
    "            arbitrageLoop.append(next_node)\n",
    "            arbitrageLoop = arbitrageLoop[arbitrageLoop.index(next_node):]\n",
    "            return arbitrageLoop\n",
    "\n",
    "\n",
    "def bellman_ford(graph, source):\n",
    "    d, p = initialize(graph, source)\n",
    "    for i in range(len(graph) - 1):  # Run this until is converges\n",
    "        for u in graph:\n",
    "            for v in graph[u]:  # For each neighbour of u\n",
    "                relax(u, v, graph, d, p)  # Lets relax it\n",
    "\n",
    "    # Step 3: check for negative-weight cycles\n",
    "    for u in graph:\n",
    "        for v in graph[u]:\n",
    "            if d[v] < d[u] + graph[u][v]:\n",
    "                return (retrace_negative_loop(p, source))\n",
    "    return None\n"
   ]
  },
  {
   "cell_type": "heading",
   "metadata": {},
   "level": 1,
   "source": [
    "Применяем алгоритм поиска и выводим ноды, входящие в отрицательный цикл, если он существует. Расчитываем его стоимость с учетом 0.2% комиссии"
   ]
  },
  {
   "cell_type": "markdown",
   "metadata": {},
   "source": []
  },
  {
   "cell_type": "code",
   "execution_count": 36,
   "metadata": {},
   "outputs": [
    {
     "name": "stdout",
     "output_type": "stream",
     "text": [
      "Starting with 100 in b'BTC'\nb'BTC' to b'PPC' at 4347.826087 = 433913.043478\nb'PPC' to b'BTC' at 0.000220 = 95.269948\nStarting with 100 in b'PPC'\nb'PPC' to b'BTC' at 0.000220 = 0.021956\nb'BTC' to b'PPC' at 4347.826087 = 95.269948\n\n\n"
     ]
    }
   ],
   "source": [
    " paths = []\n",
    " for key in graph:\n",
    "    \n",
    "    path = bellman_ford(graph, key)\n",
    "\n",
    "    if path not in paths and not None:\n",
    "        paths.append(path)\n",
    "\n",
    "for path in paths:\n",
    "    if path == None:\n",
    "        print(\"No opportunity here :(\")\n",
    "    else:\n",
    "        \n",
    "        money = 100\n",
    "        print(\"Starting with %(money)i in %(currency)s\" % {\"money\": money, \"currency\": path[0]})           \n",
    "\n",
    "        for i, value in enumerate(path):\n",
    "            if i + 1 < len(path):\n",
    "                start = path[i]\n",
    "                end = path[i + 1]\n",
    "                rate = math.exp(graph[start][end])\n",
    "                money *= rate*0.998\n",
    "                print(\"%(start)s to %(end)s at %(rate)f = %(money)f\" % {\"start\": start, \"end\": end, \"rate\": rate,\n",
    "                                                                        \"money\": money})\n",
    "print (\"\\n\")\n",
    "\n",
    " "
   ]
  },
  {
   "cell_type": "code",
   "execution_count": null,
   "metadata": {},
   "outputs": [],
   "source": [
    ""
   ]
  },
  {
   "cell_type": "code",
   "execution_count": 39,
   "metadata": {},
   "outputs": [],
   "source": []
  },
  {
   "cell_type": "code",
   "execution_count": null,
   "metadata": {},
   "outputs": [],
   "source": []
  }
 ],
 "metadata": {
  "kernelspec": {
   "display_name": "Python 3",
   "language": "python",
   "name": "python3"
  },
  "language_info": {
   "codemirror_mode": {
    "name": "ipython",
    "version": 3
   },
   "file_extension": ".py",
   "mimetype": "text/x-python",
   "name": "python",
   "nbconvert_exporter": "python",
   "pygments_lexer": "ipython3",
   "version": "3.5.2"
  }
 },
 "nbformat": 4,
 "nbformat_minor": 1
}
