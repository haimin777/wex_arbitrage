{
 "cells": [
  {
   "cell_type": "markdown",
   "metadata": {
    "collapsed": true
   },
   "source": [
    "\n"
   ]
  },
  {
   "cell_type": "code",
   "execution_count": 2,
   "metadata": {},
   "outputs": [],
   "source": [
    "\n",
    "import math, re, ccxt\n",
    "from pprint import pformat\n",
    "\n",
    "def get_data_for_graph(price1 = \"last\", price2 = \"last\"):\n",
    "    print('data for: ', price1, price2)\n",
    "    wex = ccxt.wex()\n",
    "    data_for_graph = {}\n",
    "    data = wex.fetch_tickers()\n",
    "    for key in data:\n",
    "        data_for_graph.update({key: data[key][price1]})\n",
    "    ticker_list = list(data_for_graph.keys())\n",
    "    ticker_list2 = []\n",
    "    for key in ticker_list:\n",
    "        ticker_list2.append(\"{1}/{0}\".format(*key.split('/'))) #обратные тикеры\n",
    "    \n",
    "    for key in range(0, len(ticker_list)):\n",
    "        #обратные котировки\n",
    "        data_for_graph.update({ticker_list2[key]: 1 / (data[ticker_list[key]][price2])})\n",
    "    \n",
    "    print(pformat(data_for_graph))\n",
    "    return data_for_graph\n",
    "  \n"
   ]
  },
  {
   "cell_type": "code",
   "execution_count": 3,
   "metadata": {},
   "outputs": [
    {
     "data": {
      "text/plain": [
       "'\\n\\nСоздаем граф в виде списка смежности для каждой ноды - тикера криптовалюты, \\nкотировки переводим в логарифмический вид, чтобы можо было складывать вместо \\nумножения\\n'"
      ]
     },
     "execution_count": 3,
     "metadata": {},
     "output_type": "execute_result"
    }
   ],
   "source": [
    "'''\n",
    "\n",
    "Создаем граф в виде списка смежности для каждой ноды - тикера криптовалюты, \n",
    "котировки переводим в логарифмический вид, чтобы можо было складывать вместо \n",
    "умножения\n",
    "'''\n"
   ]
  },
  {
   "cell_type": "code",
   "execution_count": 4,
   "metadata": {},
   "outputs": [],
   "source": [
    "def create_graph(data_for_graph):\n",
    "    graph = {}\n",
    "    jsrates = data_for_graph\n",
    "    \n",
    "    pattern = re.compile(\"([A-Z]{3,5})/([A-Z]{3,5})\")\n",
    "    \n",
    "    try:\n",
    "        for key in jsrates:\n",
    "            matches = pattern.match(key)\n",
    "    \n",
    "            conversion_rate = math.log(float(jsrates[key]))\n",
    "            \n",
    "            from_rate = matches.group(1).encode('ascii', 'ignore')\n",
    "    \n",
    "            to_rate = matches.group(2).encode('ascii', 'ignore')\n",
    "    \n",
    "            if from_rate != to_rate:\n",
    "                if from_rate not in graph:\n",
    "                    graph[from_rate] = {}\n",
    "                graph[from_rate][to_rate] = float(conversion_rate)\n",
    "    \n",
    "    except AttributeError:\n",
    "        print('Strange rate')\n",
    "        pass\n",
    "    \n",
    "    #print(pformat(graph))\n",
    "    # воплощение алгоритма отсюда\n",
    "    #  https://gist.github.com/joninvski/701720\n",
    "    return graph\n"
   ]
  },
  {
   "cell_type": "code",
   "execution_count": 5,
   "metadata": {},
   "outputs": [
    {
     "data": {
      "text/plain": [
       "'\\nПодготавливаем данные по каждой вершине графа \\nи ищем отрицательный цикл в полученном графе\\n\\n'"
      ]
     },
     "execution_count": 5,
     "metadata": {},
     "output_type": "execute_result"
    }
   ],
   "source": [
    "\n",
    "'''\n",
    "Подготавливаем данные по каждой вершине графа \n",
    "и ищем отрицательный цикл в полученном графе\n",
    "\n",
    "'''"
   ]
  },
  {
   "cell_type": "code",
   "execution_count": 6,
   "metadata": {},
   "outputs": [],
   "source": [
    "\n",
    "\n",
    "# Step 1: For each node prepare the destination and predecessor\n",
    "def initialize(graph, source):\n",
    "    d = {}  # Stands for destination\n",
    "    p = {}  # Stands for predecessor\n",
    "    for node in graph:\n",
    "        d[node] = float('Inf')  # We start admiting that the rest of nodes are very very far\n",
    "        p[node] = None\n",
    "    d[source] = 0  # For the source we know how to reach\n",
    "    return d, p\n",
    "\n",
    "\n",
    "def relax(node, neighbour, graph, d, p):\n",
    "    # If the distance between the node and the neighbour is lower than the one I have now\n",
    "    if d[neighbour] > d[node] + graph[node][neighbour]:\n",
    "        # Record this lower distance\n",
    "        d[neighbour] = d[node] + graph[node][neighbour]\n",
    "        p[neighbour] = node\n",
    "\n",
    "\n",
    "def retrace_negative_loop(p, start):\n",
    "    arbitrageLoop = [start]\n",
    "    next_node = start\n",
    "    while True:\n",
    "        next_node = p[next_node]\n",
    "        if next_node not in arbitrageLoop:\n",
    "            arbitrageLoop.append(next_node)\n",
    "        else:\n",
    "            arbitrageLoop.append(next_node)\n",
    "            arbitrageLoop = arbitrageLoop[arbitrageLoop.index(next_node):]\n",
    "            return arbitrageLoop\n",
    "\n",
    "\n",
    "def bellman_ford(graph, source):\n",
    "    d, p = initialize(graph, source)\n",
    "    for i in range(len(graph) - 1):  # Run this until is converges\n",
    "        for u in graph:\n",
    "            for v in graph[u]:  # For each neighbour of u\n",
    "                relax(u, v, graph, d, p)  # Lets relax it\n",
    "\n",
    "    # Step 3: check for negative-weight cycles\n",
    "    for u in graph:\n",
    "        for v in graph[u]:\n",
    "            if d[v] < d[u] + graph[u][v]:\n",
    "                return (retrace_negative_loop(p, source))\n",
    "    return None\n"
   ]
  },
  {
   "cell_type": "code",
   "execution_count": 7,
   "metadata": {},
   "outputs": [],
   "source": [
    "\n",
    "'''\n",
    "Применяем алгоритм поиска и выводим ноды, \n",
    "входящие в отрицательный цикл, если он существует.\n",
    "Расчитываем его стоимость с учетом 0.2% комиссии\n",
    "'''"
   ]
  },
  {
   "cell_type": "markdown",
   "metadata": {},
   "source": []
  },
  {
   "cell_type": "code",
   "execution_count": 10,
   "metadata": {},
   "outputs": [
    {
     "name": "stdout",
     "output_type": "stream",
     "text": [
      "data for:  last last\n"
     ]
    },
    {
     "name": "stdout",
     "output_type": "stream",
     "text": [
      "{'BCH/BCHET': 1.3054830287206267,\n 'BCH/BTC': 0.0927,\n 'BCH/DASH': 2.123,\n 'BCH/ETH': 1.664,\n 'BCH/EUR': 541.088,\n 'BCH/LTC': 5.514,\n 'BCH/RUR': 37268.111,\n 'BCH/USD': 655.875,\n 'BCH/ZEC': 3.582,\n 'BCHET/BCH': 0.766,\n 'BTC/BCH': 10.787486515641856,\n 'BTC/BTCET': 1.3869625520110958,\n 'BTC/DASH': 22.977941176470587,\n 'BTC/ETH': 17.924359204158453,\n 'BTC/EUR': 5826.78474,\n 'BTC/LTC': 59.488399762046406,\n 'BTC/NMC': 4761.9047619047615,\n 'BTC/NVC': 2222.222222222222,\n 'BTC/PPC': 4545.454545454545,\n 'BTC/RUR': 402969.84415,\n 'BTC/USD': 7089.998,\n 'BTC/ZEC': 38.61003861003861,\n 'BTCET/BTC': 0.721,\n 'DASH/BCH': 0.4710315591144606,\n 'DASH/BTC': 0.04352,\n 'DASH/DSHET': 1.3123359580052494,\n 'DASH/ETH': 0.784,\n 'DASH/EUR': 254.759,\n 'DASH/LTC': 2.603,\n 'DASH/RUR': 17621.13,\n 'DASH/USD': 309.385,\n 'DASH/ZEC': 1.688,\n 'DSHET/DASH': 0.762,\n 'ETH/BCH': 0.6009615384615384,\n 'ETH/BTC': 0.05579,\n 'ETH/DASH': 1.2755102040816326,\n 'ETH/ETHET': 1.4858841010401187,\n 'ETH/EUR': 325.4135,\n 'ETH/LTC': 3.31205,\n 'ETH/RUR': 22416.67485,\n 'ETH/USD': 394.98001,\n 'ETH/ZEC': 2.155,\n 'ETHET/ETH': 0.673,\n 'EUR/BCH': 0.0018481282157430956,\n 'EUR/BTC': 0.0001716212361742404,\n 'EUR/DASH': 0.0039252784003705465,\n 'EUR/ETH': 0.003073013258515704,\n 'EUR/EURET': 1.6286644951140066,\n 'EUR/LTC': 0.010224948875255624,\n 'EUR/RUR': 68.89353,\n 'EUR/USD': 1.21778,\n 'EURET/EUR': 0.614,\n 'LTC/BCH': 0.18135654697134565,\n 'LTC/BTC': 0.01681,\n 'LTC/DASH': 0.384172109104879,\n 'LTC/ETH': 0.30192780906085354,\n 'LTC/EUR': 97.8,\n 'LTC/LTCET': 1.7761989342806397,\n 'LTC/RUR': 6778.4555,\n 'LTC/USD': 118.9518,\n 'LTC/ZEC': 0.6497725795971411,\n 'LTCET/LTC': 0.563,\n 'NMC/BTC': 0.00021,\n 'NMC/NMCET': 1.3071895424836601,\n 'NMC/USD': 1.464,\n 'NMCET/NMC': 0.765,\n 'NVC/BTC': 0.00045,\n 'NVC/NVCET': 1.2121212121212122,\n 'NVC/USD': 3.137,\n 'NVCET/NVC': 0.825,\n 'PPC/BTC': 0.00022,\n 'PPC/PPCET': 1.3513513513513513,\n 'PPC/USD': 1.586,\n 'PPCET/PPC': 0.74,\n 'RUR/BCH': 2.683259154186806e-05,\n 'RUR/BTC': 2.4815752705003e-06,\n 'RUR/DASH': 5.67500495144182e-05,\n 'RUR/ETH': 4.460964914249983e-05,\n 'RUR/EUR': 0.014515151132479349,\n 'RUR/LTC': 0.00014752623219256954,\n 'RUR/RURET': 1.76678445229682,\n 'RUR/USD': 0.017639879392616617,\n 'RURET/RUR': 0.566,\n 'USD/BCH': 0.0015246807699637887,\n 'USD/BTC': 0.00014104376334097697,\n 'USD/DASH': 0.0032322187565654447,\n 'USD/ETH': 0.0025317736965979622,\n 'USD/EUR': 0.8211663847328745,\n 'USD/LTC': 0.008406766438170754,\n 'USD/NMC': 0.6830601092896175,\n 'USD/NVC': 0.318775900541919,\n 'USD/PPC': 0.6305170239596469,\n 'USD/RUR': 56.68973,\n 'USD/USDET': 1.4814814814814814,\n 'USD/USDT': 0.9765625,\n 'USD/ZEC': 0.005463406105902664,\n 'USDET/USD': 0.675,\n 'USDT/USD': 1.024,\n 'ZEC/BCH': 0.27917364600781686,\n 'ZEC/BTC': 0.0259,\n 'ZEC/DASH': 0.5924170616113744,\n 'ZEC/ETH': 0.4640371229698376,\n 'ZEC/LTC': 1.539,\n 'ZEC/USD': 183.036}\ncycle lenght: 5\nStarting with 100 in b'BTC'\nb'BTC' to b'PPC' at 4545.454545 = 453636.363636\nb'PPC' to b'USD' at 1.586000 = 718028.338182\nb'USD' to b'NVC' at 0.318776 = 228432.349858\nb'NVC' to b'BTC' at 0.000450 = 102.588968\n\n\n"
     ]
    }
   ],
   "source": [
    "paths = []\n",
    "\n",
    "data_for_graph = get_data_for_graph()\n",
    "graph = create_graph(data_for_graph)\n",
    "for key in graph:\n",
    "\n",
    "    path = bellman_ford(graph, key)\n",
    "\n",
    "    if path not in paths and not None and len(path) > 3:\n",
    "        paths.append(path)\n",
    "\n",
    "for path in paths:\n",
    "    if path == None:\n",
    "        print(\"No opportunity here :(\")\n",
    "    else:\n",
    "        print('cycle lenght:', len(path))\n",
    "        money = 100\n",
    "        print(\"Starting with %(money)i in %(currency)s\" % {\"money\": money, \"currency\": path[0]})           \n",
    "\n",
    "        for i, value in enumerate(path):\n",
    "            if i + 1 < len(path):\n",
    "                start = path[i]\n",
    "                end = path[i + 1]\n",
    "                rate = math.exp(graph[start][end])\n",
    "                money *= rate*0.998\n",
    "                print(\"%(start)s to %(end)s at %(rate)f = %(money)f\" % {\"start\": start, \"end\": end, \"rate\": rate,\n",
    "                                                                        \"money\": money})\n",
    "print (\"\\n\")\n",
    "\n",
    " "
   ]
  },
  {
   "cell_type": "code",
   "execution_count": 13,
   "metadata": {},
   "outputs": [
    {
     "name": "stdout",
     "output_type": "stream",
     "text": [
      "data for:  bid ask\n"
     ]
    },
    {
     "name": "stdout",
     "output_type": "stream",
     "text": [
      "{'BCH/BCHET': 1.2987012987012987,\n 'BCH/BTC': 0.0925,\n 'BCH/DASH': 2.118,\n 'BCH/ETH': 1.655,\n 'BCH/EUR': 538.663,\n 'BCH/LTC': 5.501,\n 'BCH/RUR': 37132.711,\n 'BCH/USD': 654.75,\n 'BCH/ZEC': 3.57,\n 'BCHET/BCH': 0.766,\n 'BTC/BCH': 10.764262648008613,\n 'BTC/BTCET': 1.3812154696132597,\n 'BTC/DASH': 22.841480127912288,\n 'BTC/ETH': 17.873100983020553,\n 'BTC/EUR': 5808.58899,\n 'BTC/LTC': 59.347181008902076,\n 'BTC/NMC': 4545.454545454545,\n 'BTC/NVC': 2173.913043478261,\n 'BTC/PPC': 4347.826086956522,\n 'BTC/RUR': 401564.4833,\n 'BTC/USD': 7069.0,\n 'BTC/ZEC': 38.46153846153846,\n 'BTCET/BTC': 0.721,\n 'DASH/BCH': 0.4697040864255519,\n 'DASH/BTC': 0.0435,\n 'DASH/DSHET': 1.3123359580052494,\n 'DASH/ETH': 0.781,\n 'DASH/EUR': 253.793,\n 'DASH/LTC': 2.594,\n 'DASH/RUR': 17554.297,\n 'DASH/USD': 309.0,\n 'DASH/ZEC': 1.681,\n 'DSHET/DASH': 0.761,\n 'ETH/BCH': 0.5995203836930456,\n 'ETH/BTC': 0.05575,\n 'ETH/DASH': 1.272264631043257,\n 'ETH/ETHET': 1.4858841010401187,\n 'ETH/EUR': 324.30791,\n 'ETH/LTC': 3.3048,\n 'ETH/RUR': 22380.0,\n 'ETH/USD': 394.12993,\n 'ETH/ZEC': 2.143,\n 'ETHET/ETH': 0.672,\n 'EUR/BCH': 0.001847240592003665,\n 'EUR/BTC': 0.00017108696970175857,\n 'EUR/DASH': 0.003910450679440806,\n 'EUR/ETH': 0.0030626079760724565,\n 'EUR/EURET': 1.6286644951140066,\n 'EUR/LTC': 0.010192537024390741,\n 'EUR/RUR': 68.80001,\n 'EUR/USD': 1.215,\n 'EURET/EUR': 0.611,\n 'LTC/BCH': 0.18089725036179452,\n 'LTC/BTC': 0.01676,\n 'LTC/DASH': 0.3834355828220859,\n 'LTC/ETH': 0.3010606366228222,\n 'LTC/EUR': 97.489,\n 'LTC/LTCET': 1.7761989342806397,\n 'LTC/RUR': 6747.59951,\n 'LTC/USD': 118.686593,\n 'LTC/ZEC': 0.6480881399870383,\n 'LTCET/LTC': 0.562,\n 'NMC/BTC': 0.00021,\n 'NMC/NMCET': 1.2936610608020698,\n 'NMC/USD': 1.471,\n 'NMCET/NMC': 0.765,\n 'NVC/BTC': 0.00045,\n 'NVC/NVCET': 1.2121212121212122,\n 'NVC/USD': 3.143,\n 'NVCET/NVC': 0.816,\n 'PPC/BTC': 0.00022,\n 'PPC/PPCET': 1.3262599469496021,\n 'PPC/USD': 1.556,\n 'PPCET/PPC': 0.74,\n 'RUR/BCH': 2.6735457354913623e-05,\n 'RUR/BTC': 2.472950832878094e-06,\n 'RUR/DASH': 5.653562255868582e-05,\n 'RUR/ETH': 4.453678465825381e-05,\n 'RUR/EUR': 0.01448287797958059,\n 'RUR/LTC': 0.0001472990292552075,\n 'RUR/RURET': 1.7574692442882252,\n 'RUR/USD': 0.017595113907248414,\n 'RURET/RUR': 0.566,\n 'USD/BCH': 0.0015220700152207,\n 'USD/BTC': 0.0001410439622746893,\n 'USD/DASH': 0.0032282015689059627,\n 'USD/ETH': 0.0025259541791911896,\n 'USD/EUR': 0.8193094859652286,\n 'USD/LTC': 0.008375623742122652,\n 'USD/NMC': 0.6770480704129993,\n 'USD/NVC': 0.3137747097583935,\n 'USD/PPC': 0.6309148264984227,\n 'USD/RUR': 56.5717,\n 'USD/USDET': 1.4814814814814814,\n 'USD/USDT': 0.9765625,\n 'USD/ZEC': 0.005443332190233573,\n 'USDET/USD': 0.67,\n 'USDT/USD': 1.016,\n 'ZEC/BCH': 0.27831895352073477,\n 'ZEC/BTC': 0.0258,\n 'ZEC/DASH': 0.5906674542232723,\n 'ZEC/ETH': 0.46382189239332094,\n 'ZEC/LTC': 1.536,\n 'ZEC/USD': 182.36}\ncycle lenght: 5\nStarting with 100 in b'BTC'\nb'BTC' to b'PPC' at 4347.826087 = 433913.043478\nb'PPC' to b'USD' at 1.556000 = 673818.358261\nb'USD' to b'NVC' at 0.313775 = 211004.305474\nb'NVC' to b'BTC' at 0.000450 = 94.762034\ncycle lenght: 4\nStarting with 100 in b'NMC'\nb'NMC' to b'BTC' at 0.000210 = 0.020958\nb'BTC' to b'USD' at 7069.000000 = 147.855798\nb'USD' to b'NMC' at 0.677048 = 99.905272\ncycle lenght: 4\nStarting with 100 in b'USD'\nb'USD' to b'NMC' at 0.677048 = 67.569397\nb'NMC' to b'BTC' at 0.000210 = 0.014161\nb'BTC' to b'USD' at 7069.000000 = 99.905272\ncycle lenght: 4\nStarting with 100 in b'BTC'\nb'BTC' to b'USD' at 7069.000000 = 705486.200000\nb'USD' to b'NMC' at 0.677048 = 476692.774272\nb'NMC' to b'BTC' at 0.000210 = 99.905272\n\n\n"
     ]
    }
   ],
   "source": [
    "'''\n",
    "Для bid/ask\n",
    "\n",
    "'''\n",
    "\n",
    "\n",
    "data_for_graph = get_data_for_graph(price1='bid', price2='ask')\n",
    "graph = create_graph(data_for_graph)\n",
    "for key in graph:\n",
    "    \n",
    "    path = bellman_ford(graph, key)\n",
    "\n",
    "    if path not in paths and not None and len(path) > 3:\n",
    "        paths.append(path)\n",
    "\n",
    "for path in paths:\n",
    "    if path == None:\n",
    "        print(\"No opportunity here :(\")\n",
    "    else:\n",
    "        print('cycle lenght:', len(path))\n",
    "        money = 100\n",
    "        print(\"Starting with %(money)i in %(currency)s\" % {\"money\": money, \"currency\": path[0]})           \n",
    "\n",
    "        for i, value in enumerate(path):\n",
    "            if i + 1 < len(path):\n",
    "                start = path[i]\n",
    "                end = path[i + 1]\n",
    "                rate = math.exp(graph[start][end])\n",
    "                money *= rate*0.998\n",
    "                print(\"%(start)s to %(end)s at %(rate)f = %(money)f\" % {\"start\": start, \"end\": end, \"rate\": rate,\n",
    "                                                                        \"money\": money})\n",
    "print (\"\\n\")\n",
    "\n"
   ]
  },
  {
   "cell_type": "code",
   "execution_count": 12,
   "metadata": {},
   "outputs": [
    {
     "name": "stdout",
     "output_type": "stream",
     "text": [
      "data for:  ask bid\n"
     ]
    },
    {
     "name": "stdout",
     "output_type": "stream",
     "text": [
      "{'BCH/BCHET': 1.3054830287206267,\n 'BCH/BTC': 0.0929,\n 'BCH/DASH': 2.129,\n 'BCH/ETH': 1.668,\n 'BCH/EUR': 541.348,\n 'BCH/LTC': 5.528,\n 'BCH/RUR': 37403.512,\n 'BCH/USD': 654.75,\n 'BCH/ZEC': 3.593,\n 'BCHET/BCH': 0.77,\n 'BTC/BCH': 10.81081081081081,\n 'BTC/BTCET': 1.3869625520110958,\n 'BTC/DASH': 22.98850574712644,\n 'BTC/ETH': 17.946877243359655,\n 'BTC/EUR': 5844.98049,\n 'BTC/LTC': 59.665871121718375,\n 'BTC/NMC': 4761.9047619047615,\n 'BTC/NVC': 2222.222222222222,\n 'BTC/PPC': 4545.454545454545,\n 'BTC/RUR': 404375.204,\n 'BTC/USD': 7089.988,\n 'BTC/ZEC': 38.75968992248062,\n 'BTCET/BTC': 0.724,\n 'DASH/BCH': 0.47214353163361666,\n 'DASH/BTC': 0.04378,\n 'DASH/DSHET': 1.314060446780552,\n 'DASH/ETH': 0.786,\n 'DASH/EUR': 255.725,\n 'DASH/LTC': 2.61,\n 'DASH/RUR': 17687.963,\n 'DASH/USD': 309.77,\n 'DASH/ZEC': 1.693,\n 'DSHET/DASH': 0.762,\n 'ETH/BCH': 0.6024096385542169,\n 'ETH/BTC': 0.05595,\n 'ETH/DASH': 1.2804097311139564,\n 'ETH/ETHET': 1.488095238095238,\n 'ETH/EUR': 326.5191,\n 'ETH/LTC': 3.32159,\n 'ETH/RUR': 22453.34969,\n 'ETH/USD': 395.8,\n 'ETH/ZEC': 2.156,\n 'ETHET/ETH': 0.673,\n 'EUR/BCH': 0.0018564482802791355,\n 'EUR/BTC': 0.00017215884988963558,\n 'EUR/DASH': 0.003940218997371874,\n 'EUR/ETH': 0.0030834893913010016,\n 'EUR/EURET': 1.6366612111292962,\n 'EUR/LTC': 0.010257567520438203,\n 'EUR/RUR': 69.04705,\n 'EUR/USD': 1.22054,\n 'EURET/EUR': 0.614,\n 'LTC/BCH': 0.18178512997636792,\n 'LTC/BTC': 0.01685,\n 'LTC/DASH': 0.38520801232665636,\n 'LTC/ETH': 0.3025901718712176,\n 'LTC/EUR': 98.111,\n 'LTC/LTCET': 1.779359430604982,\n 'LTC/RUR': 6788.911,\n 'LTC/USD': 119.217,\n 'LTC/ZEC': 0.6510416666666666,\n 'LTCET/LTC': 0.563,\n 'NMC/BTC': 0.00022,\n 'NMC/NMCET': 1.3071895424836601,\n 'NMC/USD': 1.477,\n 'NMCET/NMC': 0.773,\n 'NVC/BTC': 0.00046,\n 'NVC/NVCET': 1.2254901960784315,\n 'NVC/USD': 3.187,\n 'NVCET/NVC': 0.825,\n 'PPC/BTC': 0.00023,\n 'PPC/PPCET': 1.3513513513513513,\n 'PPC/USD': 1.585,\n 'PPCET/PPC': 0.754,\n 'RUR/BCH': 2.693043338527047e-05,\n 'RUR/BTC': 2.4902600742529362e-06,\n 'RUR/DASH': 5.696610920961404e-05,\n 'RUR/ETH': 4.468275245755138e-05,\n 'RUR/EUR': 0.014534881608302092,\n 'RUR/LTC': 0.00014820085254289197,\n 'RUR/RURET': 1.76678445229682,\n 'RUR/USD': 0.017676682864400398,\n 'RURET/RUR': 0.569,\n 'USD/BCH': 0.001527326155918618,\n 'USD/BTC': 0.00014146272457207527,\n 'USD/DASH': 0.003236245954692557,\n 'USD/ETH': 0.0025388846689804708,\n 'USD/EUR': 0.8230452674897119,\n 'USD/LTC': 0.008425551485836315,\n 'USD/NMC': 0.6798096532970768,\n 'USD/NVC': 0.31816735602927143,\n 'USD/PPC': 0.6426735218508998,\n 'USD/RUR': 56.83396,\n 'USD/USDET': 1.4925373134328357,\n 'USD/USDT': 0.984251968503937,\n 'USD/ZEC': 0.005483658697082693,\n 'USDET/USD': 0.675,\n 'USDT/USD': 1.024,\n 'ZEC/BCH': 0.2801120448179272,\n 'ZEC/BTC': 0.026,\n 'ZEC/DASH': 0.594883997620464,\n 'ZEC/ETH': 0.46663555762949144,\n 'ZEC/LTC': 1.543,\n 'ZEC/USD': 183.711}\ncycle lenght: 5\nStarting with 100 in b'BTC'\nb'BTC' to b'PPC' at 4545.454545 = 453636.363636\nb'PPC' to b'USD' at 1.585000 = 717575.609091\nb'USD' to b'NVC' at 0.318167 = 227852.516027\nb'NVC' to b'BTC' at 0.000460 = 104.602533\ncycle lenght: 4\nStarting with 100 in b'NMC'\nb'NMC' to b'BTC' at 0.000220 = 0.021956\nb'BTC' to b'USD' at 7089.988000 = 155.356441\nb'USD' to b'NMC' at 0.679810 = 105.401583\ncycle lenght: 4\nStarting with 100 in b'USD'\nb'USD' to b'NMC' at 0.679810 = 67.845003\nb'NMC' to b'BTC' at 0.000220 = 0.014896\nb'BTC' to b'USD' at 7089.988000 = 105.401583\ncycle lenght: 4\nStarting with 100 in b'BTC'\nb'BTC' to b'USD' at 7089.988000 = 707580.802400\nb'USD' to b'NMC' at 0.679810 = 480058.219439\nb'NMC' to b'BTC' at 0.000220 = 105.401583\n\n\n"
     ]
    }
   ],
   "source": [
    "\n",
    "\n",
    "data_for_graph = get_data_for_graph(price1='ask', price2='bid')\n",
    "graph = create_graph(data_for_graph)\n",
    "for key in graph:\n",
    "    \n",
    "    path = bellman_ford(graph, key)\n",
    "\n",
    "    if path not in paths and not None and len(path) > 3:\n",
    "        paths.append(path)\n",
    "\n",
    "for path in paths:\n",
    "    if path == None:\n",
    "        print(\"No opportunity here :(\")\n",
    "    else:\n",
    "        print('cycle lenght:', len(path))\n",
    "        money = 100\n",
    "        print(\"Starting with %(money)i in %(currency)s\" % {\"money\": money, \"currency\": path[0]})           \n",
    "\n",
    "        for i, value in enumerate(path):\n",
    "            if i + 1 < len(path):\n",
    "                start = path[i]\n",
    "                end = path[i + 1]\n",
    "                rate = math.exp(graph[start][end])\n",
    "                money *= rate*0.998\n",
    "                print(\"%(start)s to %(end)s at %(rate)f = %(money)f\" % {\"start\": start, \"end\": end, \"rate\": rate,\n",
    "                                                                        \"money\": money})\n",
    "print (\"\\n\")\n",
    "\n",
    "\n"
   ]
  },
  {
   "cell_type": "code",
   "execution_count": null,
   "metadata": {},
   "outputs": [],
   "source": []
  }
 ],
 "metadata": {
  "kernelspec": {
   "display_name": "Python 3",
   "language": "python",
   "name": "python3"
  },
  "language_info": {
   "codemirror_mode": {
    "name": "ipython",
    "version": 3
   },
   "file_extension": ".py",
   "mimetype": "text/x-python",
   "name": "python",
   "nbconvert_exporter": "python",
   "pygments_lexer": "ipython3",
   "version": "3.5.2"
  }
 },
 "nbformat": 4,
 "nbformat_minor": 1
}
