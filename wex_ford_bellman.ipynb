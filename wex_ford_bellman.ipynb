{
 "cells": [
  {
   "cell_type": "markdown",
   "metadata": {
    "collapsed": true
   },
   "source": [
    "\n"
   ]
  },
  {
   "cell_type": "code",
   "execution_count": 2,
   "metadata": {},
   "outputs": [
    {
     "name": "stdout",
     "output_type": "stream",
     "text": [
      "{'BCH/BCHET': 1.519756838905775,\n 'BCH/BTC': 0.1001,\n 'BCH/DASH': 2.186,\n 'BCH/ETH': 1.745,\n 'BCH/EUR': 580.544,\n 'BCH/LTC': 5.811,\n 'BCH/RUR': 40404.064,\n 'BCH/USD': 710.591,\n 'BCH/ZEC': 3.681,\n 'BCHET/BCH': 0.658,\n 'BTC/BCH': 9.990009990009991,\n 'BTC/BTCET': 1.6,\n 'BTC/DASH': 21.867483052700635,\n 'BTC/ETH': 17.36714136853074,\n 'BTC/EUR': 5776.85614,\n 'BTC/LTC': 58.07200929152149,\n 'BTC/NMC': 4761.9047619047615,\n 'BTC/NVC': 2127.6595744680853,\n 'BTC/PPC': 4347.826086956522,\n 'BTC/RUR': 405830.6975,\n 'BTC/USD': 7123.39,\n 'BTC/ZEC': 36.76470588235294,\n 'BTCET/BTC': 0.625,\n 'DASH/BCH': 0.4574565416285453,\n 'DASH/BTC': 0.04573,\n 'DASH/DSHET': 1.3793103448275863,\n 'DASH/ETH': 0.798,\n 'DASH/EUR': 264.885,\n 'DASH/LTC': 2.651,\n 'DASH/RUR': 18530.695,\n 'DASH/USD': 326.48011,\n 'DASH/ZEC': 1.683,\n 'DSHET/DASH': 0.725,\n 'ETH/BCH': 0.5730659025787965,\n 'ETH/BTC': 0.05758,\n 'ETH/DASH': 1.2531328320802004,\n 'ETH/ETHET': 1.6722408026755853,\n 'ETH/EUR': 329.73244,\n 'ETH/LTC': 3.32513,\n 'ETH/RUR': 23202.98621,\n 'ETH/USD': 408.91,\n 'ETH/ZEC': 2.103,\n 'ETHET/ETH': 0.598,\n 'EUR/BCH': 0.0017225223238893177,\n 'EUR/BTC': 0.00017310453571378013,\n 'EUR/DASH': 0.003775223210072296,\n 'EUR/ETH': 0.003032761956936964,\n 'EUR/EURET': 1.5649452269170578,\n 'EUR/LTC': 0.010073130930555835,\n 'EUR/RUR': 70.14311,\n 'EUR/USD': 1.232,\n 'EURET/EUR': 0.639,\n 'LTC/BCH': 0.17208742040956806,\n 'LTC/BTC': 0.01722,\n 'LTC/DASH': 0.37721614485099964,\n 'LTC/ETH': 0.30074012143886103,\n 'LTC/EUR': 99.274,\n 'LTC/LTCET': 1.7985611510791366,\n 'LTC/RUR': 6959.5493,\n 'LTC/USD': 121.934,\n 'LTC/ZEC': 0.6309148264984227,\n 'LTCET/LTC': 0.556,\n 'NMC/BTC': 0.00021,\n 'NMC/NMCET': 1.4792899408284024,\n 'NMC/USD': 1.513,\n 'NMCET/NMC': 0.676,\n 'NVC/BTC': 0.00047,\n 'NVC/NVCET': 1.2468827930174562,\n 'NVC/USD': 3.315,\n 'NVCET/NVC': 0.802,\n 'PPC/BTC': 0.00023,\n 'PPC/PPCET': 1.41643059490085,\n 'PPC/USD': 1.606,\n 'PPCET/PPC': 0.706,\n 'RUR/BCH': 2.4749985546008443e-05,\n 'RUR/BTC': 2.464081712300731e-06,\n 'RUR/DASH': 5.39645167113268e-05,\n 'RUR/ETH': 4.3097900888680486e-05,\n 'RUR/EUR': 0.014256567751273078,\n 'RUR/LTC': 0.00014368746550872196,\n 'RUR/RURET': 1.6891891891891893,\n 'RUR/USD': 0.017550602775452322,\n 'RURET/RUR': 0.592,\n 'USD/BCH': 0.001407279292870301,\n 'USD/BTC': 0.00014038259873459124,\n 'USD/DASH': 0.0030629737290887335,\n 'USD/ETH': 0.00244552591034702,\n 'USD/EUR': 0.8116883116883117,\n 'USD/LTC': 0.008201158003510095,\n 'USD/NMC': 0.6609385327164574,\n 'USD/NVC': 0.30165912518853694,\n 'USD/PPC': 0.62266500622665,\n 'USD/RUR': 56.9781,\n 'USD/USDET': 1.5037593984962405,\n 'USD/USDT': 0.9718172983479106,\n 'USD/ZEC': 0.005163955589981926,\n 'USDET/USD': 0.665,\n 'USDT/USD': 1.029,\n 'ZEC/BCH': 0.271665308340125,\n 'ZEC/BTC': 0.0272,\n 'ZEC/DASH': 0.5941770647653001,\n 'ZEC/ETH': 0.475511174512601,\n 'ZEC/LTC': 1.585,\n 'ZEC/USD': 193.65}\n"
     ]
    }
   ],
   "source": [
    "\n",
    "import math, re, ccxt\n",
    "from pprint import pformat\n",
    "wex = ccxt.wex()\n",
    "data_for_graph = {}\n",
    "data = wex.fetch_tickers()\n",
    "for key in data:\n",
    "    data_for_graph.update({key: data[key]['last']})\n",
    "ticker_list = list(data_for_graph.keys())\n",
    "ticker_list2 = []\n",
    "for key in ticker_list:\n",
    "    ticker_list2.append(\"{1}/{0}\".format(*key.split('/'))) #обратные тикеры\n",
    "\n",
    "for key in range(0, len(ticker_list)):\n",
    "    #обратные котировки\n",
    "    data_for_graph.update({ticker_list2[key]: 1 / (data[ticker_list[key]]['last'])})\n",
    "\n",
    "print(pformat(data_for_graph))\n"
   ]
  },
  {
   "cell_type": "code",
   "execution_count": null,
   "metadata": {},
   "outputs": [],
   "source": [
    "'''\n",
    "\n",
    "Создаем граф в виде списка смежности для каждой ноды - тикера криптовалюты, \n",
    "котировки переводим в логарифмический вид, чтобы можо было складывать вместо \n",
    "умножения\n",
    "'''\n"
   ]
  },
  {
   "cell_type": "code",
   "execution_count": 3,
   "metadata": {},
   "outputs": [
    {
     "name": "stdout",
     "output_type": "stream",
     "text": [
      "{b'BCH': {b'BCHET': 0.41855034765681975,\n          b'BTC': -2.3015855926609623,\n          b'DASH': 0.7820733897543468,\n          b'ETH': 0.5567545556543906,\n          b'EUR': 6.363965594992479,\n          b'LTC': 1.7597526730929685,\n          b'RUR': 10.606685652949404,\n          b'USD': 6.5660970181534974,\n          b'ZEC': 1.303184454396884},\n b'BCHET': {b'BCH': -0.4185503476568198},\n b'BTC': {b'BCH': 2.3015855926609623,\n          b'BTCET': 0.47000362924573563,\n          b'DASH': 3.0850007413121734,\n          b'ETH': 2.854579993798107,\n          b'EUR': 8.661614893272828,\n          b'LTC': 4.061683779982553,\n          b'NMC': 8.468403027246806,\n          b'NVC': 7.66277786326017,\n          b'PPC': 8.377431249041079,\n          b'RUR': 12.91369135038315,\n          b'USD': 8.871139014690653,\n          b'ZEC': 3.6045383056801854},\n b'BTCET': {b'BTC': -0.4700036292457356},\n b'DASH': {b'BCH': -0.7820733897543467,\n           b'BTC': -3.0850007413121734,\n           b'DSHET': 0.32158362412746233,\n           b'ETH': -0.22564668153232822,\n           b'EUR': 5.579295769533197,\n           b'LTC': 0.9749369273068884,\n           b'RUR': 9.827183825321862,\n           b'USD': 5.788369028024717,\n           b'ZEC': 0.520577915208669},\n b'DSHET': {b'DASH': -0.32158362412746233},\n b'ETH': {b'BCH': -0.5567545556543906,\n          b'BTC': -2.854579993798107,\n          b'DASH': 0.22564668153232822,\n          b'ETHET': 0.5141645250315053,\n          b'EUR': 5.798281537715473,\n          b'LTC': 1.2015087710878816,\n          b'RUR': 10.05203626531949,\n          b'USD': 6.013495082928735,\n          b'ZEC': 0.7433648967205628},\n b'ETHET': {b'ETH': -0.5141645250315053},\n b'EUR': {b'BCH': -6.363965594992479,\n          b'BTC': -8.661614893272828,\n          b'DASH': -5.579295769533197,\n          b'ETH': -5.798281537715473,\n          b'EURET': 0.4478508246046022,\n          b'LTC': -4.597883703937118,\n          b'RUR': 4.250537583620694,\n          b'USD': 0.208638865111328},\n b'EURET': {b'EUR': -0.44785082460460224},\n b'LTC': {b'BCH': -1.7597526730929685,\n          b'BTC': -4.061683779982553,\n          b'DASH': -0.9749369273068884,\n          b'ETH': -1.2015087710878816,\n          b'EUR': 4.597883703937118,\n          b'LTCET': 0.5869869847315546,\n          b'RUR': 8.847869995484595,\n          b'USD': 4.8034799147422715,\n          b'ZEC': -0.460584407329244},\n b'LTCET': {b'LTC': -0.5869869847315546},\n b'NMC': {b'BTC': -8.468403027246806,\n          b'NMCET': 0.391562202939173,\n          b'USD': 0.4140944348062188},\n b'NMCET': {b'NMC': -0.3915622029391729},\n b'NVC': {b'BTC': -7.66277786326017,\n          b'NVCET': 0.22064667111562242,\n          b'USD': 1.1984576236378257},\n b'NVCET': {b'NVC': -0.2206466711156225},\n b'PPC': {b'BTC': -8.377431249041079,\n          b'PPCET': 0.34814004148889505,\n          b'USD': 0.47374661552457},\n b'PPCET': {b'PPC': -0.34814004148889505},\n b'RUR': {b'BCH': -10.606685652949404,\n          b'BTC': -12.91369135038315,\n          b'DASH': -9.827183825321862,\n          b'ETH': -10.05203626531949,\n          b'EUR': -4.250537583620694,\n          b'LTC': -8.847869995484595,\n          b'RURET': 0.5242486440981314,\n          b'USD': -4.042666983480459},\n b'RURET': {b'RUR': -0.5242486440981314},\n b'USD': {b'BCH': -6.5660970181534974,\n          b'BTC': -8.871139014690653,\n          b'DASH': -5.788369028024717,\n          b'ETH': -6.013495082928735,\n          b'EUR': -0.20863886511132804,\n          b'LTC': -4.8034799147422715,\n          b'NMC': -0.41409443480621877,\n          b'NVC': -1.198457623637826,\n          b'PPC': -0.47374661552457004,\n          b'RUR': 4.042666983480459,\n          b'USDET': 0.4079682383262829,\n          b'USDT': -0.028587456851912506,\n          b'ZEC': -5.266052405960761},\n b'USDET': {b'USD': -0.4079682383262829},\n b'USDT': {b'USD': 0.028587456851912472},\n b'ZEC': {b'BCH': -1.303184454396884,\n          b'BTC': -3.6045383056801854,\n          b'DASH': -0.5205779152086689,\n          b'ETH': -0.7433648967205628,\n          b'LTC': 0.46058440732924394,\n          b'USD': 5.266052405960761}}\n"
     ]
    }
   ],
   "source": [
    "\n",
    "graph = {}\n",
    "jsrates = data_for_graph\n",
    "\n",
    "pattern = re.compile(\"([A-Z]{3,5})/([A-Z]{3,5})\")\n",
    "\n",
    "try:\n",
    "    for key in jsrates:\n",
    "        matches = pattern.match(key)\n",
    "\n",
    "        conversion_rate = math.log(float(jsrates[key]))\n",
    "        \n",
    "        from_rate = matches.group(1).encode('ascii', 'ignore')\n",
    "\n",
    "        to_rate = matches.group(2).encode('ascii', 'ignore')\n",
    "\n",
    "        if from_rate != to_rate:\n",
    "            if from_rate not in graph:\n",
    "                graph[from_rate] = {}\n",
    "            graph[from_rate][to_rate] = float(conversion_rate)\n",
    "\n",
    "except AttributeError:\n",
    "    print('Strange rate')\n",
    "    pass\n",
    "\n",
    "print(pformat(graph))\n",
    "# воплощение алгоритма отсюда\n",
    "#  https://gist.github.com/joninvski/701720\n"
   ]
  },
  {
   "cell_type": "code",
   "execution_count": null,
   "metadata": {},
   "outputs": [],
   "source": [
    "\n",
    "'''\n",
    "Подготавливаем данные по каждой вершине графа \n",
    "и ищем отрицательный цикл в полученном графе\n",
    "\n",
    "'''"
   ]
  },
  {
   "cell_type": "code",
   "execution_count": 4,
   "metadata": {},
   "outputs": [],
   "source": [
    "\n",
    "\n",
    "# Step 1: For each node prepare the destination and predecessor\n",
    "def initialize(graph, source):\n",
    "    d = {}  # Stands for destination\n",
    "    p = {}  # Stands for predecessor\n",
    "    for node in graph:\n",
    "        d[node] = float('Inf')  # We start admiting that the rest of nodes are very very far\n",
    "        p[node] = None\n",
    "    d[source] = 0  # For the source we know how to reach\n",
    "    return d, p\n",
    "\n",
    "\n",
    "def relax(node, neighbour, graph, d, p):\n",
    "    # If the distance between the node and the neighbour is lower than the one I have now\n",
    "    if d[neighbour] > d[node] + graph[node][neighbour]:\n",
    "        # Record this lower distance\n",
    "        d[neighbour] = d[node] + graph[node][neighbour]\n",
    "        p[neighbour] = node\n",
    "\n",
    "\n",
    "def retrace_negative_loop(p, start):\n",
    "    arbitrageLoop = [start]\n",
    "    next_node = start\n",
    "    while True:\n",
    "        next_node = p[next_node]\n",
    "        if next_node not in arbitrageLoop:\n",
    "            arbitrageLoop.append(next_node)\n",
    "        else:\n",
    "            arbitrageLoop.append(next_node)\n",
    "            arbitrageLoop = arbitrageLoop[arbitrageLoop.index(next_node):]\n",
    "            return arbitrageLoop\n",
    "\n",
    "\n",
    "def bellman_ford(graph, source):\n",
    "    d, p = initialize(graph, source)\n",
    "    for i in range(len(graph) - 1):  # Run this until is converges\n",
    "        for u in graph:\n",
    "            for v in graph[u]:  # For each neighbour of u\n",
    "                relax(u, v, graph, d, p)  # Lets relax it\n",
    "\n",
    "    # Step 3: check for negative-weight cycles\n",
    "    for u in graph:\n",
    "        for v in graph[u]:\n",
    "            if d[v] < d[u] + graph[u][v]:\n",
    "                return (retrace_negative_loop(p, source))\n",
    "    return None\n"
   ]
  },
  {
   "cell_type": "code",
   "execution_count": null,
   "metadata": {},
   "outputs": [],
   "source": [
    "\n",
    "'''\n",
    "Применяем алгоритм поиска и выводим ноды, \n",
    "входящие в отрицательный цикл, если он существует.\n",
    "Расчитываем его стоимость с учетом 0.2% комиссии\n",
    "'''"
   ]
  },
  {
   "cell_type": "markdown",
   "metadata": {},
   "source": []
  },
  {
   "cell_type": "code",
   "execution_count": 7,
   "metadata": {},
   "outputs": [
    {
     "name": "stdout",
     "output_type": "stream",
     "text": [
      "5\nStarting with 100 in b'BTC'\nb'BTC' to b'DASH' at 21.867483 = 2182.374809\nb'DASH' to b'USD' at 326.480110 = 711076.963657\nb'USD' to b'NVC' at 0.301659 = 214073.849089\nb'NVC' to b'BTC' at 0.000470 = 100.413480\n5\nStarting with 100 in b'DASH'\nb'DASH' to b'USD' at 326.480110 = 32582.714978\nb'USD' to b'NVC' at 0.301659 = 9809.215550\nb'NVC' to b'BTC' at 0.000470 = 4.601111\nb'BTC' to b'DASH' at 21.867483 = 100.413480\n5\nStarting with 100 in b'USD'\nb'USD' to b'NVC' at 0.301659 = 30.105581\nb'NVC' to b'BTC' at 0.000470 = 0.014121\nb'BTC' to b'DASH' at 21.867483 = 0.308180\nb'DASH' to b'USD' at 326.480110 = 100.413480\n5\nStarting with 100 in b'NVC'\nb'NVC' to b'BTC' at 0.000470 = 0.046906\nb'BTC' to b'DASH' at 21.867483 = 1.023665\nb'DASH' to b'USD' at 326.480110 = 333.537761\nb'USD' to b'NVC' at 0.301659 = 100.413480\n\n\n"
     ]
    }
   ],
   "source": [
    " paths = []\n",
    " for key in graph:\n",
    "    \n",
    "    path = bellman_ford(graph, key)\n",
    "\n",
    "    if path not in paths and not None and len(path) > 3:\n",
    "        paths.append(path)\n",
    "\n",
    "for path in paths:\n",
    "    if path == None:\n",
    "        print(\"No opportunity here :(\")\n",
    "    else:\n",
    "        print(len(path))\n",
    "        money = 100\n",
    "        print(\"Starting with %(money)i in %(currency)s\" % {\"money\": money, \"currency\": path[0]})           \n",
    "\n",
    "        for i, value in enumerate(path):\n",
    "            if i + 1 < len(path):\n",
    "                start = path[i]\n",
    "                end = path[i + 1]\n",
    "                rate = math.exp(graph[start][end])\n",
    "                money *= rate*0.998\n",
    "                print(\"%(start)s to %(end)s at %(rate)f = %(money)f\" % {\"start\": start, \"end\": end, \"rate\": rate,\n",
    "                                                                        \"money\": money})\n",
    "print (\"\\n\")\n",
    "\n",
    " "
   ]
  },
  {
   "cell_type": "code",
   "execution_count": 23,
   "metadata": {},
   "outputs": [],
   "source": [
    "'''\n",
    "Для bid/ask\n",
    "\n",
    "'''\n",
    "\n",
    "wex = ccxt.wex()\n",
    "data_for_graph = {}\n",
    "data = wex.fetch_tickers()\n",
    "for key in data:\n",
    "    data_for_graph.update({key: data[key]['ask']})\n",
    "ticker_list = list(data_for_graph.keys())\n",
    "ticker_list2 = []\n",
    "for key in ticker_list:\n",
    "    ticker_list2.append(\"{1}/{0}\".format(*key.split('/'))) #обратные тикеры\n",
    "\n",
    "for key in range(0, len(ticker_list)):\n",
    "    #обратные котировки\n",
    "    data_for_graph.update({ticker_list2[key]: 1 / (data[ticker_list[key]]['bid'])})\n",
    "\n",
    "#print(pformat(data_for_graph))"
   ]
  },
  {
   "cell_type": "code",
   "execution_count": 24,
   "metadata": {},
   "outputs": [
    {
     "name": "stdout",
     "output_type": "stream",
     "text": [
      "graph OK\n"
     ]
    }
   ],
   "source": [
    "\n"
   ]
  },
  {
   "cell_type": "code",
   "execution_count": 24,
   "metadata": {},
   "outputs": [
    {
     "name": "stdout",
     "output_type": "stream",
     "text": [
      "graph OK\n"
     ]
    }
   ],
   "source": [
    "\n",
    "graph = {}\n",
    "jsrates = data_for_graph\n",
    "\n",
    "pattern = re.compile(\"([A-Z]{3,5})/([A-Z]{3,5})\")\n",
    "\n",
    "try:\n",
    "    for key in jsrates:\n",
    "        matches = pattern.match(key)\n",
    "\n",
    "        conversion_rate = math.log(float(jsrates[key]))\n",
    "        \n",
    "        from_rate = matches.group(1).encode('ascii', 'ignore')\n",
    "\n",
    "        to_rate = matches.group(2).encode('ascii', 'ignore')\n",
    "\n",
    "        if from_rate != to_rate:\n",
    "            if from_rate not in graph:\n",
    "                graph[from_rate] = {}\n",
    "            graph[from_rate][to_rate] = float(conversion_rate)\n",
    "\n",
    "except AttributeError:\n",
    "    print('Strange rate')\n",
    "    pass\n",
    "\n",
    "print('graph OK')\n"
   ]
  },
  {
   "cell_type": "code",
   "execution_count": 22,
   "metadata": {},
   "outputs": [
    {
     "name": "stdout",
     "output_type": "stream",
     "text": [
      "graph OK\n"
     ]
    }
   ],
   "source": [
    "paths = []\n",
    "for key in graph:\n",
    "    path = bellman_ford(graph, key)\n",
    "\n",
    "    if path not in paths and not None and len(path) > 3:\n",
    "        paths.append(path)\n",
    "\n",
    "for path in paths:\n",
    "    if path == None:\n",
    "        print(\"No opportunity here :(\")\n",
    "    else:\n",
    "        print(len(path))\n",
    "        money = 100\n",
    "        print(\"Starting with %(money)i in %(currency)s\" % {\"money\": money, \"currency\": path[0]})\n",
    "\n",
    "        for i, value in enumerate(path):\n",
    "            if i + 1 < len(path):\n",
    "                start = path[i]\n",
    "                end = path[i + 1]\n",
    "                rate = math.exp(graph[start][end])\n",
    "                money *= rate * 0.998\n",
    "                print(\"%(start)s to %(end)s at %(rate)f = %(money)f\" % {\"start\": start, \"end\": end, \"rate\": rate,\n",
    "                                                                        \"money\": money})\n",
    "print(\"\\n\")\n"
   ]
  },
  {
   "cell_type": "code",
   "execution_count": null,
   "metadata": {},
   "outputs": [],
   "source": []
  }
 ],
 "metadata": {
  "kernelspec": {
   "display_name": "Python 3",
   "language": "python",
   "name": "python3"
  },
  "language_info": {
   "codemirror_mode": {
    "name": "ipython",
    "version": 3
   },
   "file_extension": ".py",
   "mimetype": "text/x-python",
   "name": "python",
   "nbconvert_exporter": "python",
   "pygments_lexer": "ipython3",
   "version": "3.5.2"
  }
 },
 "nbformat": 4,
 "nbformat_minor": 1
}
